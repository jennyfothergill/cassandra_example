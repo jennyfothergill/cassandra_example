{
 "cells": [
  {
   "cell_type": "markdown",
   "metadata": {},
   "source": [
    "# Cassandra - LJ example\n",
    "\n",
    "environment setup\n",
    "\n",
    "* switched to conda mosdef cassandra\n",
    "\n",
    "`conda create -n cassandra -y -c conda-forge -c mosdef -c omnia 'python=3.7' mbuild foyer openbabel fresnel py3dmol 'nodejs>=10' jupyterlab mosdef_cassandra matplotlib` \n",
    "\n",
    "pip installed gmso\n",
    "\n",
    "`conda activate cassandra`"
   ]
  },
  {
   "cell_type": "code",
   "execution_count": 1,
   "metadata": {},
   "outputs": [],
   "source": [
    "import mosdef_cassandra as mc\n",
    "#import gmso\n",
    "import foyer\n",
    "import mbuild as mb\n",
    "import mosdef_cassandra.examples as ex\n",
    "import numpy as np"
   ]
  },
  {
   "cell_type": "markdown",
   "metadata": {},
   "source": [
    "If the cell below fails, you need to add Cassandra to your path\n",
    "\n",
    "```\n",
    "export PATH=/Users/$(whoami)/Projects/Cassandra_V1.2/bin:${PATH}\n",
    "```"
   ]
  },
  {
   "cell_type": "code",
   "execution_count": 2,
   "metadata": {},
   "outputs": [
    {
     "name": "stdout",
     "output_type": "stream",
     "text": [
      "Using the following executables for Cassandra:\n",
      "Python: /Users/jenny/miniconda3/envs/cassandra/bin/python\n",
      "library_setup: /Users/jenny/miniconda3/envs/cassandra/bin/library_setup.py\n",
      "Cassandra: /Users/jenny/miniconda3/envs/cassandra/bin/cassandra.exe\n"
     ]
    }
   ],
   "source": [
    "mc.utils.detect_cassandra_binaries();"
   ]
  },
  {
   "cell_type": "code",
   "execution_count": 3,
   "metadata": {},
   "outputs": [
    {
     "name": "stderr",
     "output_type": "stream",
     "text": [
      "/Users/jenny/miniconda3/envs/cassandra/lib/python3.7/site-packages/foyer/forcefield.py:457: UserWarning: Non-atomistic element type detected. Creating custom element for \n",
      "  'Creating custom element for {}'.format(element))\n"
     ]
    }
   ],
   "source": [
    "lj_ff = foyer.Forcefield()\n",
    "lj_ff.loadFile(\"FF_xmls/LJ.xml\")"
   ]
  },
  {
   "cell_type": "code",
   "execution_count": 6,
   "metadata": {},
   "outputs": [],
   "source": [
    "ljium = mb.Compound(name=\"C\", pos=[0,0,0])\n",
    "#ljium.visualize().show()"
   ]
  },
  {
   "cell_type": "code",
   "execution_count": 14,
   "metadata": {},
   "outputs": [
    {
     "name": "stderr",
     "output_type": "stream",
     "text": [
      "/Users/jenny/miniconda3/envs/cassandra/lib/python3.7/site-packages/parmed/openmm/topsystem.py:238: OpenMMWarning: Adding what seems to be Urey-Bradley terms before Angles. This is unexpected, but the parameters will all be present in one form or another.\n",
      "  'all be present in one form or another.', OpenMMWarning)\n"
     ]
    }
   ],
   "source": [
    "typed_ljium = lj_ff.apply(\n",
    "    ljium, assert_bond_params=False, assert_angle_params=False, \n",
    "    assert_dihedral_params=False\n",
    ")\n",
    "L = 10\n",
    "box = mb.Box(mins=[-L/2]*3, maxs=[L/2]*3)"
   ]
  },
  {
   "cell_type": "code",
   "execution_count": 20,
   "metadata": {},
   "outputs": [],
   "source": [
    "%%bash\n",
    "# Delete output of previous run\n",
    "rm -rf *.in.* species* *.out* *.inp* *.log"
   ]
  },
  {
   "cell_type": "code",
   "execution_count": 21,
   "metadata": {},
   "outputs": [
    {
     "name": "stdout",
     "output_type": "stream",
     "text": [
      "Using the following executables for Cassandra:\n",
      "Python: /Users/jenny/miniconda3/envs/cassandra/bin/python\n",
      "library_setup: /Users/jenny/miniconda3/envs/cassandra/bin/library_setup.py\n",
      "Cassandra: /Users/jenny/miniconda3/envs/cassandra/bin/cassandra.exe\n",
      "Generating fragment libraries...\n",
      "Running Cassandra...\n"
     ]
    },
    {
     "name": "stderr",
     "output_type": "stream",
     "text": [
      "/Users/jenny/miniconda3/envs/cassandra/lib/python3.7/site-packages/mbuild/formats/cassandramcf.py:178: UserWarning: No bonds found. Cassandra will interpet this as a rigid species\n",
      "  warnings.warn(\"No bonds found. Cassandra will interpet \"\n"
     ]
    }
   ],
   "source": [
    "# Create box and species list\n",
    "box_list = [box]\n",
    "species_list = [typed_ljium]\n",
    "\n",
    "# Since we have an occupied box we need to specify\n",
    "# the number of each species present in the intial config\n",
    "mols_in_boxes = [[0]]\n",
    "\n",
    "system = mc.System(box_list, species_list, mols_in_boxes=mols_in_boxes)\n",
    "moves = mc.Moves(\"gcmc\", species_list)\n",
    "\n",
    "custom_args = {\n",
    "    \"chemical_potentials\": [-4],\n",
    "    \"rcut_min\": 0.5,\n",
    "    \"vdw_cutoff\": min(box.lengths)/2.1,\n",
    "    \"charge_style\": \"none\",\n",
    "    #\"charge_cutoff\": 14.0,\n",
    "    \"coord_freq\": 100,\n",
    "    \"prop_freq\": 10,\n",
    "}\n",
    "\n",
    "mc.run(system, moves, \"equilibration\", 10000, 300.0, **custom_args)"
   ]
  },
  {
   "cell_type": "code",
   "execution_count": 25,
   "metadata": {},
   "outputs": [],
   "source": [
    "%%bash\n",
    "\n",
    "#mkdir lj_results\n",
    "#mv -f *.in.* species* *.out* *.inp* *.log lj_results"
   ]
  },
  {
   "cell_type": "code",
   "execution_count": 26,
   "metadata": {},
   "outputs": [],
   "source": [
    "import ex_render_cassandra as erc"
   ]
  },
  {
   "cell_type": "code",
   "execution_count": 39,
   "metadata": {},
   "outputs": [],
   "source": [
    "import freud \n",
    "from ex_render_cassandra import Cassandra_frame\n",
    "\n",
    "def make_traj(xyzfile, boxfile):\n",
    "    d_xyz = np.dtype([(\"atom\", np.unicode_, 8), (\"xyz\", \"d\", 3)])\n",
    "\n",
    "    with open(xyzfile, \"r\") as f:\n",
    "        xyzlines = f.readlines()\n",
    "\n",
    "    with open(boxfile, \"r\") as f:\n",
    "        boxlines = f.readlines()\n",
    "\n",
    "    i = 0\n",
    "    boxes = []\n",
    "    while True:\n",
    "        try:\n",
    "            line = boxlines[i]\n",
    "        except IndexError:\n",
    "            break\n",
    "        if len(line.split()) == 3:\n",
    "            boxmat = np.array(\n",
    "                [line.split(),boxlines[i+1].split(), boxlines[i+2].split()],\n",
    "                dtype=\"float64\"\n",
    "            )\n",
    "            boxes.append(freud.box.Box.from_matrix(boxmat))\n",
    "            i += 3\n",
    "        i += 1\n",
    "\n",
    "    traj = []\n",
    "    i = 0\n",
    "    step = 0\n",
    "    while True:\n",
    "        try:\n",
    "            n_atoms = int(xyzlines[i])\n",
    "        except IndexError:\n",
    "            break\n",
    "        #print(xyzlines[i+1]) # this should print the step\n",
    "        arr = xyzlines[i+2:i+2+n_atoms]\n",
    "        data = np.genfromtxt(arr, dtype = d_xyz)\n",
    "        atoms = np.array([i[\"atom\"] for i in data], dtype=\"U8\")\n",
    "        try:\n",
    "            xyz = np.stack([i[\"xyz\"] for i in data])\n",
    "            frame = Cassandra_frame(atoms, xyz, boxes[step])\n",
    "            traj.append(frame)\n",
    "        except ValueError:\n",
    "            pass\n",
    "        i += 2+n_atoms\n",
    "        step += 1\n",
    "    return traj"
   ]
  },
  {
   "cell_type": "code",
   "execution_count": 40,
   "metadata": {},
   "outputs": [
    {
     "name": "stderr",
     "output_type": "stream",
     "text": [
      "/Users/jenny/miniconda3/envs/cassandra/lib/python3.7/site-packages/ipykernel_launcher.py:39: UserWarning: genfromtxt: Empty input file: \"[]\"\n"
     ]
    }
   ],
   "source": [
    "xyzfile = \"lj_results/gcmc.out.xyz\"\n",
    "boxfile = \"lj_results/gcmc.out.H\"\n",
    "traj = erc.make_traj(xyzfile, boxfile)"
   ]
  },
  {
   "cell_type": "code",
   "execution_count": 41,
   "metadata": {},
   "outputs": [],
   "source": [
    "# slow!\n",
    "erc.display_movie(erc.render_sphere_frame, traj, gif=\"lj_results/traj.gif\")"
   ]
  },
  {
   "cell_type": "markdown",
   "metadata": {},
   "source": [
    "![](lj_results/traj.gif)"
   ]
  },
  {
   "cell_type": "code",
   "execution_count": null,
   "metadata": {},
   "outputs": [],
   "source": []
  }
 ],
 "metadata": {
  "kernelspec": {
   "display_name": "Python 3",
   "language": "python",
   "name": "python3"
  },
  "language_info": {
   "codemirror_mode": {
    "name": "ipython",
    "version": 3
   },
   "file_extension": ".py",
   "mimetype": "text/x-python",
   "name": "python",
   "nbconvert_exporter": "python",
   "pygments_lexer": "ipython3",
   "version": "3.7.6"
  }
 },
 "nbformat": 4,
 "nbformat_minor": 4
}
