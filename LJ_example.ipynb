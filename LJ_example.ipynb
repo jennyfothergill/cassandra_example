{
 "cells": [
  {
   "cell_type": "markdown",
   "metadata": {},
   "source": [
    "# Cassandra - LJ example\n",
    "\n",
    "environment setup\n",
    "\n",
    "* switched to conda mosdef cassandra\n",
    "\n",
    "`conda create -n cassandra -y -c conda-forge -c mosdef -c omnia 'python=3.7' mbuild foyer openbabel fresnel py3dmol 'nodejs>=10' jupyterlab mosdef_cassandra matplotlib` \n",
    "\n",
    "`conda activate cassandra`"
   ]
  },
  {
   "cell_type": "markdown",
   "metadata": {},
   "source": [
    "### Units\n",
    "\n",
    "I've been confused about units, so here are my notes to keep things together. I think mosdef cassandra should handle the energy unit conversion, but I can't find the code where this is done.\n",
    "\n",
    "#### Cassandra\n",
    "- length: Å\n",
    "- energy $\\frac{\\epsilon}{k_{B}}$: K\n",
    "\n",
    "#### Foyer\n",
    "- length: nm\n",
    "- energy: $\\frac{kcal}{mol}$\n",
    "\n",
    "#### Parmed\n",
    "- length: Å\n",
    "- energy: $\\frac{kcal}{mol}$"
   ]
  },
  {
   "cell_type": "code",
   "execution_count": 171,
   "metadata": {},
   "outputs": [],
   "source": [
    "import mosdef_cassandra as mc\n",
    "import foyer\n",
    "import mbuild as mb\n",
    "import numpy as np\n",
    "#import unyt as u\n",
    "from numpy.linalg import norm\n",
    "import matplotlib.pyplot as plt\n",
    "\n",
    "import ex_render_cassandra as erc\n",
    "\n",
    "plt.rcParams.update({\"font.size\": 22, \"figure.figsize\": (10,6)})"
   ]
  },
  {
   "cell_type": "markdown",
   "metadata": {},
   "source": [
    "If the cell below fails, you need to add Cassandra to your path\n",
    "\n",
    "```\n",
    "export PATH=/Users/$(whoami)/Projects/Cassandra_V1.2/bin:${PATH}\n",
    "```"
   ]
  },
  {
   "cell_type": "code",
   "execution_count": 5,
   "metadata": {},
   "outputs": [
    {
     "name": "stdout",
     "output_type": "stream",
     "text": [
      "Using the following executables for Cassandra:\n",
      "Python: /Users/jenny/miniconda3/envs/cassandra/bin/python\n",
      "library_setup: /Users/jenny/miniconda3/envs/cassandra/bin/library_setup.py\n",
      "Cassandra: /Users/jenny/miniconda3/envs/cassandra/bin/cassandra.exe\n"
     ]
    }
   ],
   "source": [
    "mc.utils.detect_cassandra_binaries();"
   ]
  },
  {
   "cell_type": "code",
   "execution_count": 6,
   "metadata": {},
   "outputs": [
    {
     "name": "stderr",
     "output_type": "stream",
     "text": [
      "/Users/jenny/miniconda3/envs/cassandra/lib/python3.7/site-packages/foyer/forcefield.py:457: UserWarning: Non-atomistic element type detected. Creating custom element for \n",
      "  'Creating custom element for {}'.format(element))\n"
     ]
    }
   ],
   "source": [
    "# ff units nm kcal/mol \n",
    "# (doesn't matter except that mbuild converts things without telling us :c)\n",
    "lj_ff = foyer.Forcefield()\n",
    "lj_ff.loadFile(\"FF_xmls/LJ.xml\")"
   ]
  },
  {
   "cell_type": "code",
   "execution_count": 9,
   "metadata": {},
   "outputs": [],
   "source": [
    "ljium = mb.Compound(name=\"C\", pos=[0,0,0]) \n",
    "# using \"C\" as name is a hacky way to make foyer work,\n",
    "# but this is LJium--not carbon\n",
    "#ljium.visualize().show()"
   ]
  },
  {
   "cell_type": "code",
   "execution_count": 52,
   "metadata": {},
   "outputs": [],
   "source": [
    "#typed_ljium.atoms[0].uepsilon\n",
    "#typed_ljium.atoms[0].usigma"
   ]
  },
  {
   "cell_type": "code",
   "execution_count": 45,
   "metadata": {},
   "outputs": [
    {
     "name": "stderr",
     "output_type": "stream",
     "text": [
      "/Users/jenny/miniconda3/envs/cassandra/lib/python3.7/site-packages/parmed/openmm/topsystem.py:238: OpenMMWarning: Adding what seems to be Urey-Bradley terms before Angles. This is unexpected, but the parameters will all be present in one form or another.\n",
      "  'all be present in one form or another.', OpenMMWarning)\n"
     ]
    }
   ],
   "source": [
    "typed_ljium = lj_ff.apply(\n",
    "    ljium, assert_bond_params=False, assert_angle_params=False, \n",
    "    assert_dihedral_params=False\n",
    ") \n",
    "L = 10 # this gets multiplied in cassandra x10 (nm->A) \n",
    "# but length scale is same as FF\n",
    "box = mb.Box(mins=[-L/2]*3, maxs=[L/2]*3)"
   ]
  },
  {
   "cell_type": "code",
   "execution_count": 67,
   "metadata": {},
   "outputs": [
    {
     "name": "stdout",
     "output_type": "stream",
     "text": [
      "epsilon: 0.24\n",
      "sigma:  10.0\n",
      "The unit temperature is 120 K\n"
     ]
    }
   ],
   "source": [
    "eps = typed_ljium.atoms[0].epsilon\n",
    "print(f\"epsilon: {eps:.2f}\")\n",
    "print(\"sigma: \", typed_ljium.atoms[0].sigma)\n",
    "# ParmEd is in kcal/mol\n",
    "\n",
    "kb = 0.001985875    # kcal/(mol K)\n",
    "T = eps/kb\n",
    "\n",
    "print(f\"The unit temperature is {T:.0f} K\")"
   ]
  },
  {
   "cell_type": "code",
   "execution_count": 139,
   "metadata": {},
   "outputs": [],
   "source": [
    "# remove previous runs\n",
    "!rm -rf species* *.out.* *.inp mosdef*.log"
   ]
  },
  {
   "cell_type": "code",
   "execution_count": 138,
   "metadata": {},
   "outputs": [],
   "source": [
    "def run_cassandra(chem_pot, temp):\n",
    "    # Create box and species list\n",
    "    box_list = [box]\n",
    "    species_list = [typed_ljium]\n",
    "\n",
    "    # Since we have an occupied box we need to specify\n",
    "    # the number of each species present in the intial config\n",
    "    mols_in_boxes = [[0]]\n",
    "\n",
    "    system = mc.System(box_list, species_list, mols_in_boxes=mols_in_boxes)\n",
    "    moves = mc.Moves(\"gcmc\", species_list)\n",
    "\n",
    "    custom_args = {\n",
    "        \"run_name\": f\"equil_{chem_pot:.0f}_{temp:.0f}\",\n",
    "        \"chemical_potentials\": [chem_pot],\n",
    "        \"rcut_min\": 0.5,\n",
    "        \"vdw_cutoff\": min(box.lengths)/2.1,\n",
    "        \"charge_style\": \"none\",\n",
    "        #\"charge_cutoff\": 14.0,\n",
    "        \"coord_freq\": 100,\n",
    "        \"prop_freq\": 10,\n",
    "    }\n",
    "\n",
    "    mc.run(\n",
    "        system=system, \n",
    "        moves=moves, \n",
    "        run_type=\"equilibration\", \n",
    "        run_length=10000, \n",
    "        temperature=temp, \n",
    "        **custom_args\n",
    "    )\n",
    "    \n",
    "    # Set max translate and volume for production\n",
    "    moves.max_translate = [[10.0]] # angstroms\n",
    "\n",
    "    # Update run_name and restart_name\n",
    "    custom_args[\"run_name\"] = f\"prod_{chem_pot:.0f}_{temp:.0f}\"\n",
    "    custom_args[\"restart_name\"] = f\"equil_{chem_pot:.0f}_{temp:.0f}\"\n",
    "\n",
    "    mc.restart(\n",
    "        system=system,\n",
    "        moves=moves,\n",
    "        run_type=\"production\",\n",
    "        run_length=50000,\n",
    "        temperature=temp,\n",
    "        **custom_args,\n",
    "    )"
   ]
  },
  {
   "cell_type": "code",
   "execution_count": 137,
   "metadata": {},
   "outputs": [],
   "source": [
    "# If you want to check whether your run completed successfully\n",
    "# This should say \"Cassandra simulation complete\"\n",
    "#!tail -1 mosdef*.log"
   ]
  },
  {
   "cell_type": "code",
   "execution_count": 140,
   "metadata": {},
   "outputs": [
    {
     "name": "stdout",
     "output_type": "stream",
     "text": [
      "Using the following executables for Cassandra:\n",
      "Python: /Users/jenny/miniconda3/envs/cassandra/bin/python\n",
      "library_setup: /Users/jenny/miniconda3/envs/cassandra/bin/library_setup.py\n",
      "Cassandra: /Users/jenny/miniconda3/envs/cassandra/bin/cassandra.exe\n",
      "Generating fragment libraries...\n",
      "Running Cassandra...\n"
     ]
    },
    {
     "name": "stderr",
     "output_type": "stream",
     "text": [
      "/Users/jenny/miniconda3/envs/cassandra/lib/python3.7/site-packages/mbuild/formats/cassandramcf.py:178: UserWarning: No bonds found. Cassandra will interpet this as a rigid species\n",
      "  warnings.warn(\"No bonds found. Cassandra will interpet \"\n"
     ]
    },
    {
     "name": "stdout",
     "output_type": "stream",
     "text": [
      "Using the following executables for Cassandra:\n",
      "Python: /Users/jenny/miniconda3/envs/cassandra/bin/python\n",
      "library_setup: /Users/jenny/miniconda3/envs/cassandra/bin/library_setup.py\n",
      "Cassandra: /Users/jenny/miniconda3/envs/cassandra/bin/cassandra.exe\n",
      "Running Cassandra...\n",
      "Using the following executables for Cassandra:\n",
      "Python: /Users/jenny/miniconda3/envs/cassandra/bin/python\n",
      "library_setup: /Users/jenny/miniconda3/envs/cassandra/bin/library_setup.py\n",
      "Cassandra: /Users/jenny/miniconda3/envs/cassandra/bin/cassandra.exe\n",
      "Generating fragment libraries...\n",
      "Running Cassandra...\n",
      "Using the following executables for Cassandra:\n",
      "Python: /Users/jenny/miniconda3/envs/cassandra/bin/python\n",
      "library_setup: /Users/jenny/miniconda3/envs/cassandra/bin/library_setup.py\n",
      "Cassandra: /Users/jenny/miniconda3/envs/cassandra/bin/cassandra.exe\n",
      "Running Cassandra...\n",
      "Using the following executables for Cassandra:\n",
      "Python: /Users/jenny/miniconda3/envs/cassandra/bin/python\n",
      "library_setup: /Users/jenny/miniconda3/envs/cassandra/bin/library_setup.py\n",
      "Cassandra: /Users/jenny/miniconda3/envs/cassandra/bin/cassandra.exe\n",
      "Generating fragment libraries...\n",
      "Running Cassandra...\n",
      "Using the following executables for Cassandra:\n",
      "Python: /Users/jenny/miniconda3/envs/cassandra/bin/python\n",
      "library_setup: /Users/jenny/miniconda3/envs/cassandra/bin/library_setup.py\n",
      "Cassandra: /Users/jenny/miniconda3/envs/cassandra/bin/cassandra.exe\n",
      "Running Cassandra...\n",
      "Using the following executables for Cassandra:\n",
      "Python: /Users/jenny/miniconda3/envs/cassandra/bin/python\n",
      "library_setup: /Users/jenny/miniconda3/envs/cassandra/bin/library_setup.py\n",
      "Cassandra: /Users/jenny/miniconda3/envs/cassandra/bin/cassandra.exe\n",
      "Generating fragment libraries...\n",
      "Running Cassandra...\n",
      "Using the following executables for Cassandra:\n",
      "Python: /Users/jenny/miniconda3/envs/cassandra/bin/python\n",
      "library_setup: /Users/jenny/miniconda3/envs/cassandra/bin/library_setup.py\n",
      "Cassandra: /Users/jenny/miniconda3/envs/cassandra/bin/cassandra.exe\n",
      "Running Cassandra...\n"
     ]
    }
   ],
   "source": [
    "chem_pots = [i*T for i in range(0,4)] \n",
    "temp = 2*T\n",
    "\n",
    "for chem_pot in chem_pots:\n",
    "    run_cassandra(chem_pot,temp)"
   ]
  },
  {
   "cell_type": "markdown",
   "metadata": {},
   "source": [
    "# Adsorption Isotherm\n",
    "\n",
    "Number vs pressure at constant T\n",
    "\n",
    "[notes from lab meeting here](https://etherpad.boisestate.edu/p/ldrd-s20-4)"
   ]
  },
  {
   "cell_type": "code",
   "execution_count": 152,
   "metadata": {},
   "outputs": [],
   "source": [
    "# prp file is where the properties live\n",
    "\n",
    "# STEP Energy_Total Energy_Intra Energy_Inter Enthalpy Pressure Volume Nmols Mass_Density  \n",
    "#     (kJ/mol)-Ext  (kJ/mol)-Ext (kJ/mol)-Ext          (bar)    (A^3)        (kg/m^3) \n",
    "\n",
    "#print(f\"{chem_pot:.0f} {temp:.0f}\")\n",
    "pressures = []\n",
    "nmols = []\n",
    "for chem_pot in chem_pots:\n",
    "    a = np.loadtxt(f\"prod_{chem_pot:.0f}_{temp:.0f}.out.prp\")\n",
    "    pressures.append(np.mean(a[:,5]))\n",
    "    nmols.append(np.mean(a[:,7]))"
   ]
  },
  {
   "cell_type": "code",
   "execution_count": 172,
   "metadata": {},
   "outputs": [
    {
     "data": {
      "image/png": "[encoded data removed]",
      "text/plain": [
       "<Figure size 720x432 with 1 Axes>"
      ]
     },
     "metadata": {
      "needs_background": "light"
     },
     "output_type": "display_data"
    }
   ],
   "source": [
    "plt.title(r\"Adsorption isotherm for LJium at T = 2$\\frac{\\epsilon}{k_{B}}$\")\n",
    "plt.scatter(pressures,nmols)\n",
    "plt.ylabel(\"Pressure (bar)\")\n",
    "plt.xlabel(\"Number of molecules\")\n",
    "plt.show()"
   ]
  },
  {
   "cell_type": "code",
   "execution_count": 128,
   "metadata": {},
   "outputs": [
    {
     "name": "stdout",
     "output_type": "stream",
     "text": [
      "400\n"
     ]
    }
   ],
   "source": [
    "# These cells are for visualizing output\n",
    "xyzfile = f\"prod_{chem_pot:.0f}_{temp:.0f}.out.xyz\"\n",
    "boxfile = f\"prod_{chem_pot:.0f}_{temp:.0f}.out.H\"\n",
    "traj = erc.make_traj(xyzfile, boxfile)\n",
    "print(len(traj))"
   ]
  },
  {
   "cell_type": "code",
   "execution_count": 122,
   "metadata": {},
   "outputs": [],
   "source": [
    "# slow!\n",
    "if len(traj) > 0:\n",
    "    erc.display_movie(erc.render_sphere_frame, traj, gif=\"lj_results/prod.gif\")\n",
    "else:\n",
    "    print(\"no frames in trajectory!\")"
   ]
  },
  {
   "cell_type": "markdown",
   "metadata": {},
   "source": [
    "![](lj_results/prod.gif)"
   ]
  }
 ],
 "metadata": {
  "kernelspec": {
   "display_name": "Python 3",
   "language": "python",
   "name": "python3"
  },
  "language_info": {
   "codemirror_mode": {
    "name": "ipython",
    "version": 3
   },
   "file_extension": ".py",
   "mimetype": "text/x-python",
   "name": "python",
   "nbconvert_exporter": "python",
   "pygments_lexer": "ipython3",
   "version": "3.7.6"
  }
 },
 "nbformat": 4,
 "nbformat_minor": 4
}
