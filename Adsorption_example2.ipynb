{
 "cells": [
  {
   "cell_type": "markdown",
   "metadata": {},
   "source": [
    "# Cassandra\n",
    "environment setup\n",
    "\n",
    "*should be able to remove mosdef and omnia channels sooooon*\n",
    "\n",
    "`conda create -n cassandra -y -c conda-forge -c mosdef -c omnia “python=3.7” mbuild foyer openbabel py3dmol pytest jupyterlab spglib`\n",
    "\n",
    "`conda activate cassandra`\n",
    "\n",
    "`git clone git@github.com:jennyfothergill/mosdef_cassandra.git`\n",
    "\n",
    "`cd mosdef_cassandra`\n",
    "\n",
    "`python -m pip install .`"
   ]
  },
  {
   "cell_type": "markdown",
   "metadata": {},
   "source": [
    "Following example based on:\n",
    "\n",
    "Song, M. K., & No, K. T. (2009). Grand Canonical Monte Carlo simulations of hydrogen adsorption on aluminophosphate molecular sieves. International Journal of Hydrogen Energy, 34(5), 2325–2328. https://doi.org/10.1016/j.ijhydene.2008.12.076\n",
    "\n",
    "VPI-5 framework structure taken from https://america.iza-structure.org/IZA-SC/mat_cif.php?ID=VFI_0, oxygen atoms removed from pore by deleting atoms in cif file labeled H2O#. Then converted to conventional cell using <>. and made into a supercell.\n",
    "\n",
    "Does Cassandra use periodic boundary conditions?"
   ]
  },
  {
   "cell_type": "code",
   "execution_count": 10,
   "metadata": {},
   "outputs": [],
   "source": [
    "%%bash\n",
    "# Add Cassandra to your path\n",
    "export PATH=/Users/$(whoami)/Projects/Cassandra_V1.2/bin:${PATH}"
   ]
  },
  {
   "cell_type": "code",
   "execution_count": 11,
   "metadata": {},
   "outputs": [],
   "source": [
    "%%bash\n",
    "# Delete output of previous run\n",
    "rm -rf *.in.* species* *.out* *.inp*"
   ]
  },
  {
   "cell_type": "code",
   "execution_count": 12,
   "metadata": {},
   "outputs": [],
   "source": [
    "# Probably a bad idea, but also there are way too many warnings :/\n",
    "import warnings\n",
    "\n",
    "warnings.simplefilter(\"ignore\")"
   ]
  },
  {
   "cell_type": "code",
   "execution_count": 27,
   "metadata": {},
   "outputs": [],
   "source": [
    "import mosdef_cassandra as mc\n",
    "import foyer\n",
    "import mbuild as mb\n",
    "import mosdef_cassandra.examples as ex\n",
    "import numpy as np\n",
    "import spglib"
   ]
  },
  {
   "cell_type": "code",
   "execution_count": 14,
   "metadata": {},
   "outputs": [
    {
     "name": "stdout",
     "output_type": "stream",
     "text": [
      "Using the following executables for Cassandra:\n",
      "Python: /usr/bin/python2.7\n",
      "library_setup: /Users/jenny/Projects/Cassandra_V1.2/bin/library_setup.py\n",
      "Cassandra: /Users/jenny/Projects/Cassandra_V1.2/bin/cassandra_gfortran.exe\n"
     ]
    }
   ],
   "source": [
    "# If this fails, you need to add Cassandra to your path\n",
    "mc.utils.detect_cassandra_binaries();"
   ]
  },
  {
   "cell_type": "code",
   "execution_count": 100,
   "metadata": {},
   "outputs": [],
   "source": [
    "cif_file = \"VPI-5.cif\"\n",
    "with open(cif_file, \"r\") as f:\n",
    "    data = [line for line in f.readlines() if not (line.isspace() or line[0] == \"#\")]\n",
    "#print(data.index(' loop_\\n'))\n",
    "cell_dict = {}\n",
    "for line in data:\n",
    "    if line.startswith(\"_cell\"):\n",
    "        cell_dict[line.split()[0][6:]] = float(line.split()[1])\n",
    "#print(cell_dict)\n",
    "\n",
    "atom_lines = data[data.index(' loop_\\n')+1:]\n",
    "atom_labels = [line[11:].strip(\"\\n\") for line in atom_lines if line.startswith(\"_\")]\n",
    "atoms = []\n",
    "for line in atom_lines[len(atom_labels):]:\n",
    "    line_split = line.split()\n",
    "    atom_dict = {}\n",
    "    for label, item in zip(atom_labels,line_split):\n",
    "        try:\n",
    "            item = float(item)\n",
    "        except ValueError:\n",
    "            pass\n",
    "        atom_dict[label] = item\n",
    "    atoms.append(atom_dict)\n",
    "#print(atom_dict)"
   ]
  },
  {
   "cell_type": "code",
   "execution_count": 112,
   "metadata": {},
   "outputs": [],
   "source": [
    "pop_inds = [i for i,atom in enumerate(atoms) if atom[\"label\"].startswith(\"H2O\")]\n",
    "for ind in pop_inds[::-1]:\n",
    "    atoms.pop(ind)"
   ]
  },
  {
   "cell_type": "code",
   "execution_count": 137,
   "metadata": {},
   "outputs": [],
   "source": [
    "pos = np.empty((len(atoms),3))\n",
    "names = []\n",
    "for i,atom in enumerate(atoms):\n",
    "    names.append(atom[\"type_symbol\"])\n",
    "    pos[i,:] = [atom[\"fract_x\"],atom[\"fract_y\"],atom[\"fract_z\"]]\n",
    "    \n",
    "#print(names, pos)"
   ]
  },
  {
   "cell_type": "code",
   "execution_count": 145,
   "metadata": {},
   "outputs": [
    {
     "data": {
      "text/plain": [
       "array([[18.9752    ,  0.        ,  0.        ],\n",
       "       [15.44924675, 11.01721334,  0.        ],\n",
       "       [-3.63136781, -1.16218437,  7.15148898]])"
      ]
     },
     "execution_count": 145,
     "metadata": {},
     "output_type": "execute_result"
    }
   ],
   "source": [
    "#print(cell_dict)\n",
    "a = np.array([cell_dict[\"length_a\"], 0, 0])\n",
    "\n",
    "b = np.array([\n",
    "    cell_dict[\"length_b\"]*np.cos(cell_dict[\"angle_gamma\"]),\n",
    "    cell_dict[\"length_b\"]*np.sin(cell_dict[\"angle_gamma\"]),\n",
    "    0\n",
    "])\n",
    "\n",
    "inside = (\n",
    "    np.cos(cell_dict[\"angle_alpha\"])-np.cos(cell_dict[\"angle_beta\"])*np.cos(cell_dict[\"angle_gamma\"])\n",
    ")/np.sin(cell_dict[\"angle_gamma\"])\n",
    "\n",
    "c = np.array([\n",
    "    cell_dict[\"length_c\"]*np.cos(cell_dict[\"angle_beta\"]),\n",
    "    cell_dict[\"length_c\"]*inside,\n",
    "    cell_dict[\"length_c\"]*np.sqrt(\n",
    "        1-np.cos(cell_dict[\"angle_beta\"])**2-inside**2\n",
    "    ),\n",
    "])\n",
    "\n",
    "lattice = np.stack((a,b,c))\n",
    "lattice"
   ]
  },
  {
   "cell_type": "markdown",
   "metadata": {},
   "source": [
    "Next we can make a cubic unit cell like this:\n",
    "\n",
    "![img VPI-5.png](VPI-5.png)"
   ]
  },
  {
   "cell_type": "code",
   "execution_count": 144,
   "metadata": {},
   "outputs": [
    {
     "data": {
      "text/plain": [
       "array([[ 8.10440000e+00,  0.00000000e+00,  0.00000000e+00],\n",
       "       [ 7.08316420e-16,  1.15676850e+01,  0.00000000e+00],\n",
       "       [-3.97886481e-01, -5.78384250e+00,  1.59473040e+01]])"
      ]
     },
     "execution_count": 144,
     "metadata": {},
     "output_type": "execute_result"
    }
   ],
   "source": [
    "cell = (lattice, pos, numbers)\n",
    "lattice, pos, numbers = spglib.standardize_cell(cell)\n",
    "\n",
    "lattice"
   ]
  },
  {
   "cell_type": "code",
   "execution_count": 23,
   "metadata": {},
   "outputs": [
    {
     "data": {
      "application/3dmoljs_load.v0": "<div id=\"3dmolviewer_1585251390671159\"  style=\"position: relative; width: 640px; height: 480px\">\n        <p id=\"3dmolwarning_1585251390671159\" style=\"background-color:#ffcccc;color:black\">You appear to be running in JupyterLab (or JavaScript failed to load for some other reason).  You need to install the 3dmol extension: <br>\n        <tt>jupyter labextension install jupyterlab_3dmol</tt></p>\n        </div>\n<script>\n\nvar loadScriptAsync = function(uri){\n  return new Promise((resolve, reject) => {\n    var tag = document.createElement('script');\n    tag.src = uri;\n    tag.async = true;\n    tag.onload = () => {\n      resolve();\n    };\n  var firstScriptTag = document.getElementsByTagName('script')[0];\n  firstScriptTag.parentNode.insertBefore(tag, firstScriptTag);\n});\n};\n\nif(typeof $3Dmolpromise === 'undefined') {\n$3Dmolpromise = null;\n  $3Dmolpromise = loadScriptAsync('https://3dmol.csb.pitt.edu/build/3Dmol.js');\n}\n\nvar viewer_1585251390671159 = null;\nvar warn = document.getElementById(\"3dmolwarning_1585251390671159\");\nif(warn) {\n    warn.parentNode.removeChild(warn);\n}\n$3Dmolpromise.then(function() {\nviewer_1585251390671159 = $3Dmol.createViewer($(\"#3dmolviewer_1585251390671159\"),{backgroundColor:\"white\"});\n\tviewer_1585251390671159.addModel(\"@<TRIPOS>MOLECULE\\nRES\\n2 1 1 0 1\\nSMALL\\nNO_CHARGES\\n@<TRIPOS>CRYSIN\\n    5.0000     5.7400     5.0000    90.0000    90.0000    90.0000  1  1\\n@<TRIPOS>ATOM\\n       1 H            0.0000     0.0000     0.0000 H             1 RES     \\n       2 H            0.0000     0.7400     0.0000 H             1 RES     \\n@<TRIPOS>BOND\\n       1        1        2 1\\n@<TRIPOS>SUBSTRUCTURE\\n       1 RES             1 RESIDUE    0 **** ROOT      0\\n\",\"mol2\");\n\tviewer_1585251390671159.setStyle({\"stick\": {\"radius\": 0.2, \"color\": \"grey\"}, \"sphere\": {\"scale\": 0.3, \"colorscheme\": {}}});\n\tviewer_1585251390671159.zoomTo();\nviewer_1585251390671159.render();\n});\n</script>",
      "text/html": [
       "<div id=\"3dmolviewer_1585251390671159\"  style=\"position: relative; width: 640px; height: 480px\">\n",
       "        <p id=\"3dmolwarning_1585251390671159\" style=\"background-color:#ffcccc;color:black\">You appear to be running in JupyterLab (or JavaScript failed to load for some other reason).  You need to install the 3dmol extension: <br>\n",
       "        <tt>jupyter labextension install jupyterlab_3dmol</tt></p>\n",
       "        </div>\n",
       "<script>\n",
       "\n",
       "var loadScriptAsync = function(uri){\n",
       "  return new Promise((resolve, reject) => {\n",
       "    var tag = document.createElement('script');\n",
       "    tag.src = uri;\n",
       "    tag.async = true;\n",
       "    tag.onload = () => {\n",
       "      resolve();\n",
       "    };\n",
       "  var firstScriptTag = document.getElementsByTagName('script')[0];\n",
       "  firstScriptTag.parentNode.insertBefore(tag, firstScriptTag);\n",
       "});\n",
       "};\n",
       "\n",
       "if(typeof $3Dmolpromise === 'undefined') {\n",
       "$3Dmolpromise = null;\n",
       "  $3Dmolpromise = loadScriptAsync('https://3dmol.csb.pitt.edu/build/3Dmol.js');\n",
       "}\n",
       "\n",
       "var viewer_1585251390671159 = null;\n",
       "var warn = document.getElementById(\"3dmolwarning_1585251390671159\");\n",
       "if(warn) {\n",
       "    warn.parentNode.removeChild(warn);\n",
       "}\n",
       "$3Dmolpromise.then(function() {\n",
       "viewer_1585251390671159 = $3Dmol.createViewer($(\"#3dmolviewer_1585251390671159\"),{backgroundColor:\"white\"});\n",
       "\tviewer_1585251390671159.addModel(\"@<TRIPOS>MOLECULE\\nRES\\n2 1 1 0 1\\nSMALL\\nNO_CHARGES\\n@<TRIPOS>CRYSIN\\n    5.0000     5.7400     5.0000    90.0000    90.0000    90.0000  1  1\\n@<TRIPOS>ATOM\\n       1 H            0.0000     0.0000     0.0000 H             1 RES     \\n       2 H            0.0000     0.7400     0.0000 H             1 RES     \\n@<TRIPOS>BOND\\n       1        1        2 1\\n@<TRIPOS>SUBSTRUCTURE\\n       1 RES             1 RESIDUE    0 **** ROOT      0\\n\",\"mol2\");\n",
       "\tviewer_1585251390671159.setStyle({\"stick\": {\"radius\": 0.2, \"color\": \"grey\"}, \"sphere\": {\"scale\": 0.3, \"colorscheme\": {}}});\n",
       "\tviewer_1585251390671159.zoomTo();\n",
       "viewer_1585251390671159.render();\n",
       "});\n",
       "</script>"
      ]
     },
     "metadata": {},
     "output_type": "display_data"
    }
   ],
   "source": [
    "hydrogen = mb.Compound()\n",
    "hydrogen.add(mb.Particle(name=\"H\", pos=np.array([0,0,0])))\n",
    "hydrogen.add(mb.Particle(name=\"H\", pos=np.array([0,0.074,0])))\n",
    "hydrogen.add_bond((hydrogen[0],hydrogen[1]))\n",
    "hydrogen.visualize().show()"
   ]
  },
  {
   "cell_type": "code",
   "execution_count": null,
   "metadata": {},
   "outputs": [],
   "source": [
    "# Load forcefields\n",
    "trappe = foyer.forcefields.load_TRAPPE_UA()\n",
    "oplsaa = foyer.forcefields.load_OPLSAA()\n",
    "\n",
    "# Use foyer to apply forcefields\n",
    "typed_lattice = trappe.apply(lattice)\n",
    "typed_methane = oplsaa.apply(methane)\n",
    "\n",
    "# Create box and species list\n",
    "box_list = [lattice]\n",
    "species_list = [typed_lattice, typed_methane]\n",
    "\n",
    "# Since we have an occupied box we need to specify\n",
    "# the number of each species present in the intial config\n",
    "mols_in_boxes = [[1, 0]]\n",
    "\n",
    "system = mc.System(box_list, species_list, mols_in_boxes=mols_in_boxes)\n",
    "moves = mc.Moves(\"gcmc\", species_list)\n",
    "\n",
    "custom_args = {\n",
    "    \"chemical_potentials\": [\"none\", -30.0],\n",
    "    \"rcut_min\": 0.5,\n",
    "    \"vdw_cutoff\": 14.0,\n",
    "    \"charge_cutoff\": 14.0,\n",
    "    \"coord_freq\": 100,\n",
    "    \"prop_freq\": 10,\n",
    "}\n",
    "\n",
    "mc.run(system, moves, \"equilibration\", 10000, 300.0, **custom_args)"
   ]
  },
  {
   "cell_type": "code",
   "execution_count": null,
   "metadata": {},
   "outputs": [],
   "source": [
    "!head gcmc.out.xyz"
   ]
  },
  {
   "cell_type": "code",
   "execution_count": null,
   "metadata": {},
   "outputs": [],
   "source": [
    "import numpy as np\n",
    "import fresnel\n",
    "import io\n",
    "import PIL\n",
    "import sys\n",
    "import IPython"
   ]
  },
  {
   "cell_type": "code",
   "execution_count": null,
   "metadata": {},
   "outputs": [],
   "source": [
    "file = \"gcmc.out.xyz\"\n",
    "\n",
    "d_xyz = np.dtype([(\"atom\", np.unicode_, 8), (\"xyz\", \"d\", 3)])\n",
    "\n",
    "with open(file, \"r\") as f:\n",
    "    lines = f.readlines()\n",
    "\n",
    "traj = []\n",
    "step = 0\n",
    "while True:\n",
    "    try:\n",
    "        n_atoms = int(lines[step])\n",
    "    except IndexError:\n",
    "        break\n",
    "    # print(lines[step+1]) # this should print the step\n",
    "    arr = lines[step+2:step+2+n_atoms]\n",
    "    frame = np.genfromtxt(arr, dtype = d_xyz)\n",
    "    atoms = np.array([i[\"atom\"] for i in frame],dtype=\"U8\")\n",
    "    xyz = np.stack([i[\"xyz\"] for i in frame])\n",
    "    traj.append((atoms,xyz))\n",
    "    step += 2+n_atoms"
   ]
  },
  {
   "cell_type": "code",
   "execution_count": null,
   "metadata": {},
   "outputs": [],
   "source": [
    "#!head gcmc.out.H\n",
    "height = 29.840000000000000"
   ]
  },
  {
   "cell_type": "code",
   "execution_count": null,
   "metadata": {},
   "outputs": [],
   "source": [
    "def render_sphere_frame(frame, height=None):\n",
    "\n",
    "    if height is None:\n",
    "        if hasattr(frame, 'configuration'):\n",
    "            Ly = frame.configuration.box[1]\n",
    "            height = Ly * math.sqrt(3)\n",
    "        else:\n",
    "            Ly = frame.box.Ly;\n",
    "            height = Ly * math.sqrt(3)\n",
    "\n",
    "    scene = fresnel.Scene(device)\n",
    "    scene.lights = fresnel.light.cloudy();\n",
    "    g = fresnel.geometry.Sphere(scene, position=frame[1], radius=np.ones(len(frame[0]))*0.5)\n",
    "    g.material = fresnel.material.Material(solid=0.0, color=blue, primitive_color_mix=1.0, specular=1.0, roughness=0.2)\n",
    "    g.outline_width = 0.07\n",
    "    scene.camera = fresnel.camera.orthographic(position=(height, height, height), look_at=(0,0,0), up=(0,1,0), height=height)\n",
    "\n",
    "    g.color[frame[0] == \"C\"] = blue;\n",
    "    g.color[frame[0] == \"_C\"] = blue;\n",
    "    g.color[frame[0] == \"H\"] = orange;\n",
    "\n",
    "    scene.background_color = (1,1,1)\n",
    "\n",
    "    return path_tracer.sample(scene, samples=64, light_samples=20)"
   ]
  },
  {
   "cell_type": "code",
   "execution_count": null,
   "metadata": {},
   "outputs": [],
   "source": [
    "device = fresnel.Device(mode='cpu');\n",
    "preview_tracer = fresnel.tracer.Preview(device, 300, 300)\n",
    "path_tracer = fresnel.tracer.Path(device, 300, 300)\n",
    "\n",
    "blue = fresnel.color.linear([0.25,0.5,1])*0.9;\n",
    "orange = fresnel.color.linear([1.0,0.714,0.169])*0.9\n",
    "\n",
    "def display_movie(frame_gen, traj, gif = None):\n",
    "    a = frame_gen(traj[0], height = 30);\n",
    "\n",
    "    if tuple(map(int, (PIL.__version__.split(\".\")))) < (3,4,0):\n",
    "        print(\"Warning! Movie display output requires pillow 3.4.0 or newer.\")\n",
    "        print(\"Older versions of pillow may only display the first frame.\")\n",
    "\n",
    "    im0 = PIL.Image.fromarray(a[:,:, 0:3], mode='RGB').convert(\"P\", palette=PIL.Image.ADAPTIVE);\n",
    "    ims = [];\n",
    "    for f in traj[1:]:\n",
    "        a = frame_gen(f, height = 30);\n",
    "        im = PIL.Image.fromarray(a[:,:, 0:3], mode='RGB')\n",
    "        im_p = im.quantize(palette=im0);\n",
    "        ims.append(im_p)\n",
    "\n",
    "    if gif:\n",
    "        im0.save(gif, 'gif', save_all=True, append_images=ims, duration=1000, loop=0)\n",
    "        return\n",
    "    if (sys.version_info[0] >= 3):\n",
    "        size = len(io.BytesIO().getbuffer())/1024;\n",
    "        if (size > 2000):\n",
    "            print(\"Size:\", size, \"KiB\")\n",
    "\n",
    "    return IPython.display.display(IPython.display.Image(data=io.BytesIO().getvalue()))"
   ]
  },
  {
   "cell_type": "code",
   "execution_count": null,
   "metadata": {},
   "outputs": [],
   "source": [
    "#render_sphere_frame(traj[2], height)\n",
    "\n",
    "display_movie(render_sphere_frame, traj, \"traj.gif\")"
   ]
  },
  {
   "cell_type": "code",
   "execution_count": null,
   "metadata": {},
   "outputs": [],
   "source": [
    "# gcmc.out.H - box\n",
    "# gcmc.out.xyz - particle coordinates\n",
    "# species#.mcf - connectivity\n",
    "# Cassandra treats no bonds as fixed - check the inp file (max distances for the frozen species should be 0)\n",
    "# this file species2/frag1/frag1.dat contains the fragment configurations \n",
    "# --changing the temp (300) to natoms (5 for methane) makes it viewable by vmd (watch the fragment wiggle around)\n",
    "# chk - restart (mc.restart)\n",
    "# log - energies, etc\n",
    "# properties - thermo properties\n",
    "# cassandra uses fixed bonds -- make sure ring systems have correct bonds!\n",
    "!ls"
   ]
  },
  {
   "cell_type": "code",
   "execution_count": null,
   "metadata": {},
   "outputs": [],
   "source": []
  }
 ],
 "metadata": {
  "kernelspec": {
   "display_name": "Python 3",
   "language": "python",
   "name": "python3"
  },
  "language_info": {
   "codemirror_mode": {
    "name": "ipython",
    "version": 3
   },
   "file_extension": ".py",
   "mimetype": "text/x-python",
   "name": "python",
   "nbconvert_exporter": "python",
   "pygments_lexer": "ipython3",
   "version": "3.7.6"
  }
 },
 "nbformat": 4,
 "nbformat_minor": 4
}
