{
 "cells": [
  {
   "cell_type": "markdown",
   "metadata": {},
   "source": [
    "# Cassandra - LJ example\n",
    "\n",
    "environment setup\n",
    "\n",
    "* switched to conda mosdef cassandra\n",
    "\n",
    "`conda create -n cassandra -y -c conda-forge -c mosdef -c omnia 'python=3.7' mbuild foyer openbabel fresnel py3dmol 'nodejs>=10' jupyterlab mosdef_cassandra matplotlib` \n",
    "\n",
    "`conda activate cassandra`"
   ]
  },
  {
   "cell_type": "markdown",
   "metadata": {},
   "source": [
    "### Table of contents\n",
    "\n",
    "- [Units](#u)\n",
    "- [Sim no surface](#sim)\n",
    "- [Isotherm](#iso)\n",
    "- [Sim with surface](#surf)\n",
    "- [Adsorption isotherm](#isosurf)"
   ]
  },
  {
   "cell_type": "markdown",
   "metadata": {},
   "source": [
    "<a id=\"u\"></a>\n",
    "### Units\n",
    "\n",
    "I've been confused about units, so here are my notes to keep things together. I think mosdef cassandra should handle the energy unit conversion, but I can't find the code where this is done.\n",
    "\n",
    "#### Cassandra\n",
    "- length: Å\n",
    "- energy $\\frac{\\epsilon}{k_{B}}$: K\n",
    "\n",
    "#### Foyer\n",
    "- length: nm\n",
    "- energy: $\\frac{kcal}{mol}$\n",
    "\n",
    "#### Parmed\n",
    "- length: Å\n",
    "- energy: $\\frac{kcal}{mol}$"
   ]
  },
  {
   "cell_type": "code",
   "execution_count": 1,
   "metadata": {},
   "outputs": [],
   "source": [
    "import sys\n",
    "sys.path.append(\"..\") # Allows us to import from up one directory\n",
    "\n",
    "import mosdef_cassandra as mc\n",
    "import foyer\n",
    "import mbuild as mb\n",
    "import numpy as np\n",
    "#import unyt as u\n",
    "from numpy.linalg import norm\n",
    "import matplotlib.pyplot as plt\n",
    "\n",
    "import ex_render_cassandra as erc\n",
    "\n",
    "plt.rcParams.update({\"font.size\": 22, \"figure.figsize\": (10,6)})"
   ]
  },
  {
   "cell_type": "markdown",
   "metadata": {},
   "source": [
    "If the cell below fails, you need to add Cassandra to your path\n",
    "\n",
    "```\n",
    "export PATH=/Users/$(whoami)/Projects/Cassandra_V1.2/bin:${PATH}\n",
    "```"
   ]
  },
  {
   "cell_type": "code",
   "execution_count": 2,
   "metadata": {},
   "outputs": [
    {
     "name": "stdout",
     "output_type": "stream",
     "text": [
      "Using the following executables for Cassandra:\n",
      "Python: /Users/jenny/miniconda3/envs/cassandra/bin/python\n",
      "library_setup: /Users/jenny/miniconda3/envs/cassandra/bin/library_setup.py\n",
      "Cassandra: /Users/jenny/miniconda3/envs/cassandra/bin/cassandra.exe\n"
     ]
    }
   ],
   "source": [
    "mc.utils.detect_cassandra_binaries();"
   ]
  },
  {
   "cell_type": "code",
   "execution_count": 3,
   "metadata": {},
   "outputs": [
    {
     "name": "stderr",
     "output_type": "stream",
     "text": [
      "/Users/jenny/miniconda3/envs/cassandra/lib/python3.7/site-packages/foyer/forcefield.py:457: UserWarning: Non-atomistic element type detected. Creating custom element for \n",
      "  'Creating custom element for {}'.format(element))\n"
     ]
    }
   ],
   "source": [
    "# ff units nm kcal/mol \n",
    "# (doesn't matter except that mbuild converts things without telling us :c)\n",
    "lj_ff = foyer.Forcefield()\n",
    "lj_ff.loadFile(\"../FF_xmls/LJ.xml\")"
   ]
  },
  {
   "cell_type": "code",
   "execution_count": 4,
   "metadata": {},
   "outputs": [],
   "source": [
    "ljium = mb.Compound(name=\"C\", pos=[0,0,0]) \n",
    "# using \"C\" as name is a hacky way to make foyer work,\n",
    "# but this is LJium--not carbon\n",
    "#ljium.visualize().show()"
   ]
  },
  {
   "cell_type": "code",
   "execution_count": 5,
   "metadata": {},
   "outputs": [],
   "source": [
    "# If you want to check units, these are helpful\n",
    "#typed_ljium.atoms[0].uepsilon\n",
    "#typed_ljium.atoms[0].usigma"
   ]
  },
  {
   "cell_type": "code",
   "execution_count": 6,
   "metadata": {},
   "outputs": [
    {
     "name": "stderr",
     "output_type": "stream",
     "text": [
      "/Users/jenny/miniconda3/envs/cassandra/lib/python3.7/site-packages/parmed/openmm/topsystem.py:238: OpenMMWarning: Adding what seems to be Urey-Bradley terms before Angles. This is unexpected, but the parameters will all be present in one form or another.\n",
      "  'all be present in one form or another.', OpenMMWarning)\n"
     ]
    }
   ],
   "source": [
    "typed_ljium = lj_ff.apply(\n",
    "    ljium, assert_bond_params=False, assert_angle_params=False, \n",
    "    assert_dihedral_params=False\n",
    ") \n",
    "L = 10 # this gets multiplied in cassandra x10 (nm->A) \n",
    "# but length scale is same as FF\n",
    "box = mb.Box(mins=[-L/2]*3, maxs=[L/2]*3)"
   ]
  },
  {
   "cell_type": "code",
   "execution_count": 7,
   "metadata": {},
   "outputs": [
    {
     "name": "stdout",
     "output_type": "stream",
     "text": [
      "epsilon: 0.24\n",
      "sigma:  10.0\n",
      "The unit temperature is 120 K\n"
     ]
    }
   ],
   "source": [
    "eps = typed_ljium.atoms[0].epsilon\n",
    "print(f\"epsilon: {eps:.2f}\")\n",
    "print(\"sigma: \", typed_ljium.atoms[0].sigma)\n",
    "# ParmEd is in kcal/mol\n",
    "\n",
    "kb = 0.001985875    # kcal/(mol K)\n",
    "T = eps/kb\n",
    "\n",
    "print(f\"The unit temperature is {T:.0f} K\")"
   ]
  },
  {
   "cell_type": "code",
   "execution_count": 9,
   "metadata": {},
   "outputs": [],
   "source": [
    "# remove previous runs\n",
    "# !rm -rf species* *.out.* *.inp mosdef*.log"
   ]
  },
  {
   "cell_type": "markdown",
   "metadata": {},
   "source": [
    "<a id=\"sim\"></a>\n",
    "## Simulation"
   ]
  },
  {
   "cell_type": "code",
   "execution_count": 8,
   "metadata": {},
   "outputs": [],
   "source": [
    "def run_cassandra(chem_pot, temp):\n",
    "    # Create box and species list\n",
    "    box_list = [box]\n",
    "    species_list = [typed_ljium]\n",
    "\n",
    "    # Since we have an occupied box we need to specify\n",
    "    # the number of each species present in the intial config\n",
    "    mols_in_boxes = [[0]]\n",
    "\n",
    "    system = mc.System(box_list, species_list, mols_in_boxes=mols_in_boxes)\n",
    "    moves = mc.Moves(\"gcmc\", species_list)\n",
    "\n",
    "    custom_args = {\n",
    "        \"run_name\": f\"equil_{chem_pot:.0f}_{temp:.0f}\",\n",
    "        \"chemical_potentials\": [chem_pot],\n",
    "        \"rcut_min\": 0.5,\n",
    "        \"vdw_cutoff\": min(box.lengths)/2.1,\n",
    "        \"charge_style\": \"none\",\n",
    "        #\"charge_cutoff\": 14.0,\n",
    "        \"coord_freq\": 100,\n",
    "        \"prop_freq\": 10,\n",
    "    }\n",
    "\n",
    "    mc.run(\n",
    "        system=system, \n",
    "        moves=moves, \n",
    "        run_type=\"equilibration\", \n",
    "        run_length=10000, \n",
    "        temperature=temp, \n",
    "        **custom_args\n",
    "    )\n",
    "    \n",
    "    # Set max translate and volume for production\n",
    "    moves.max_translate = [[10.0]] # angstroms\n",
    "\n",
    "    # Update run_name and restart_name\n",
    "    custom_args[\"run_name\"] = f\"prod_{chem_pot:.0f}_{temp:.0f}\"\n",
    "    custom_args[\"restart_name\"] = f\"equil_{chem_pot:.0f}_{temp:.0f}\"\n",
    "\n",
    "    mc.restart(\n",
    "        system=system,\n",
    "        moves=moves,\n",
    "        run_type=\"production\",\n",
    "        run_length=50000,\n",
    "        temperature=temp,\n",
    "        **custom_args,\n",
    "    )"
   ]
  },
  {
   "cell_type": "code",
   "execution_count": 11,
   "metadata": {},
   "outputs": [],
   "source": [
    "# If you want to check whether your run completed successfully\n",
    "# This should say \"Cassandra simulation complete\"\n",
    "#!tail -1 mosdef*.log"
   ]
  },
  {
   "cell_type": "code",
   "execution_count": 12,
   "metadata": {},
   "outputs": [
    {
     "name": "stdout",
     "output_type": "stream",
     "text": [
      "Using the following executables for Cassandra:\n",
      "Python: /Users/jenny/miniconda3/envs/cassandra/bin/python\n",
      "library_setup: /Users/jenny/miniconda3/envs/cassandra/bin/library_setup.py\n",
      "Cassandra: /Users/jenny/miniconda3/envs/cassandra/bin/cassandra.exe\n",
      "Generating fragment libraries...\n",
      "Running Cassandra...\n"
     ]
    },
    {
     "name": "stderr",
     "output_type": "stream",
     "text": [
      "/Users/jenny/miniconda3/envs/cassandra/lib/python3.7/site-packages/mbuild/formats/cassandramcf.py:178: UserWarning: No bonds found. Cassandra will interpet this as a rigid species\n",
      "  warnings.warn(\"No bonds found. Cassandra will interpet \"\n"
     ]
    },
    {
     "name": "stdout",
     "output_type": "stream",
     "text": [
      "Using the following executables for Cassandra:\n",
      "Python: /Users/jenny/miniconda3/envs/cassandra/bin/python\n",
      "library_setup: /Users/jenny/miniconda3/envs/cassandra/bin/library_setup.py\n",
      "Cassandra: /Users/jenny/miniconda3/envs/cassandra/bin/cassandra.exe\n",
      "Running Cassandra...\n",
      "Using the following executables for Cassandra:\n",
      "Python: /Users/jenny/miniconda3/envs/cassandra/bin/python\n",
      "library_setup: /Users/jenny/miniconda3/envs/cassandra/bin/library_setup.py\n",
      "Cassandra: /Users/jenny/miniconda3/envs/cassandra/bin/cassandra.exe\n",
      "Generating fragment libraries...\n",
      "Running Cassandra...\n",
      "Using the following executables for Cassandra:\n",
      "Python: /Users/jenny/miniconda3/envs/cassandra/bin/python\n",
      "library_setup: /Users/jenny/miniconda3/envs/cassandra/bin/library_setup.py\n",
      "Cassandra: /Users/jenny/miniconda3/envs/cassandra/bin/cassandra.exe\n",
      "Running Cassandra...\n",
      "Using the following executables for Cassandra:\n",
      "Python: /Users/jenny/miniconda3/envs/cassandra/bin/python\n",
      "library_setup: /Users/jenny/miniconda3/envs/cassandra/bin/library_setup.py\n",
      "Cassandra: /Users/jenny/miniconda3/envs/cassandra/bin/cassandra.exe\n",
      "Generating fragment libraries...\n",
      "Running Cassandra...\n",
      "Using the following executables for Cassandra:\n",
      "Python: /Users/jenny/miniconda3/envs/cassandra/bin/python\n",
      "library_setup: /Users/jenny/miniconda3/envs/cassandra/bin/library_setup.py\n",
      "Cassandra: /Users/jenny/miniconda3/envs/cassandra/bin/cassandra.exe\n",
      "Running Cassandra...\n",
      "Using the following executables for Cassandra:\n",
      "Python: /Users/jenny/miniconda3/envs/cassandra/bin/python\n",
      "library_setup: /Users/jenny/miniconda3/envs/cassandra/bin/library_setup.py\n",
      "Cassandra: /Users/jenny/miniconda3/envs/cassandra/bin/cassandra.exe\n",
      "Generating fragment libraries...\n",
      "Running Cassandra...\n",
      "Using the following executables for Cassandra:\n",
      "Python: /Users/jenny/miniconda3/envs/cassandra/bin/python\n",
      "library_setup: /Users/jenny/miniconda3/envs/cassandra/bin/library_setup.py\n",
      "Cassandra: /Users/jenny/miniconda3/envs/cassandra/bin/cassandra.exe\n",
      "Running Cassandra...\n"
     ]
    }
   ],
   "source": [
    "chem_pots = [i*T for i in range(0,4)] \n",
    "temp = 2*T\n",
    "\n",
    "for chem_pot in chem_pots:\n",
    "    run_cassandra(chem_pot,temp)"
   ]
  },
  {
   "cell_type": "markdown",
   "metadata": {},
   "source": [
    "<a id=\"iso\"></a>\n",
    "## Isotherm\n",
    "\n",
    "Number vs pressure at constant T\n",
    "\n",
    "[notes from lab meeting here](https://etherpad.boisestate.edu/p/ldrd-s20-4)"
   ]
  },
  {
   "cell_type": "code",
   "execution_count": 13,
   "metadata": {},
   "outputs": [],
   "source": [
    "# prp file is where the properties live\n",
    "\n",
    "# STEP Energy_Total Energy_Intra Energy_Inter Enthalpy Pressure Volume Nmols Mass_Density  \n",
    "#     (kJ/mol)-Ext  (kJ/mol)-Ext (kJ/mol)-Ext          (bar)    (A^3)        (kg/m^3) \n",
    "\n",
    "#print(f\"{chem_pot:.0f} {temp:.0f}\")\n",
    "pressures = []\n",
    "nmols = []\n",
    "for chem_pot in chem_pots:\n",
    "    a = np.loadtxt(f\"prod_{chem_pot:.0f}_{temp:.0f}.out.prp\")\n",
    "    pressures.append(np.mean(a[:,5]))\n",
    "    nmols.append(np.mean(a[:,7]))"
   ]
  },
  {
   "cell_type": "code",
   "execution_count": 14,
   "metadata": {},
   "outputs": [
    {
     "data": {
      "image/png": "[encoded data removed]",
      "text/plain": [
       "<Figure size 720x432 with 1 Axes>"
      ]
     },
     "metadata": {
      "needs_background": "light"
     },
     "output_type": "display_data"
    }
   ],
   "source": [
    "plt.title(r\"Adsorption isotherm for LJium at T = 2$\\frac{\\epsilon}{k_{B}}$\")\n",
    "plt.scatter(pressures,nmols)\n",
    "plt.xlabel(\"Pressure (bar)\")\n",
    "plt.ylabel(\"Number of molecules\")\n",
    "plt.show()"
   ]
  },
  {
   "cell_type": "code",
   "execution_count": 15,
   "metadata": {},
   "outputs": [
    {
     "name": "stdout",
     "output_type": "stream",
     "text": [
      "400\n"
     ]
    }
   ],
   "source": [
    "# These cells are for visualizing output\n",
    "xyzfile = f\"prod_{chem_pot:.0f}_{temp:.0f}.out.xyz\"\n",
    "boxfile = f\"prod_{chem_pot:.0f}_{temp:.0f}.out.H\"\n",
    "traj = erc.make_traj(xyzfile, boxfile)\n",
    "print(len(traj))"
   ]
  },
  {
   "cell_type": "code",
   "execution_count": 18,
   "metadata": {},
   "outputs": [],
   "source": [
    "# slow! use ovito instead!\n",
    "gifname = f\"LJ{chem_pot:.0f}_{temp:.0f}.gif\"\n",
    "if len(traj) > 0:\n",
    "    erc.display_movie(erc.render_sphere_frame, traj, gif=gifname)\n",
    "else:\n",
    "    print(\"no frames in trajectory!\")"
   ]
  },
  {
   "cell_type": "code",
   "execution_count": 20,
   "metadata": {},
   "outputs": [
    {
     "name": "stdout",
     "output_type": "stream",
     "text": [
      "gif saved as LJ361_241.gif\n"
     ]
    }
   ],
   "source": [
    "print(f\"gif saved as {gifname}\")"
   ]
  },
  {
   "cell_type": "markdown",
   "metadata": {},
   "source": [
    "![](LJ361_241.gif)"
   ]
  },
  {
   "cell_type": "code",
   "execution_count": 4,
   "metadata": {},
   "outputs": [],
   "source": [
    "def autocorr1D(array):\n",
    "    '''Takes in a linear numpy array, performs autocorrelation\n",
    "       function and returns normalized array with half the length\n",
    "       of the input'''\n",
    "    ft = np.fft.rfft(array-np.average(array))\n",
    "    acorr = np.fft.irfft(ft*np.conjugate(ft))/(len(array)*np.var(array))\n",
    "    return acorr[0:len(acorr)//2]"
   ]
  },
  {
   "cell_type": "code",
   "execution_count": 25,
   "metadata": {},
   "outputs": [
    {
     "data": {
      "image/png": "[encoded data removed]",
      "text/plain": [
       "<Figure size 720x432 with 1 Axes>"
      ]
     },
     "metadata": {
      "needs_background": "light"
     },
     "output_type": "display_data"
    }
   ],
   "source": [
    "# if we wanted to check whether our system was equilibrated we could the equil\n",
    "# property files (.prp)\n",
    "\n",
    "# STEP Energy_Total Energy_Intra Energy_Inter Enthalpy Pressure Volume Nmols Mass_Density  \n",
    "#     (kJ/mol)-Ext  (kJ/mol)-Ext (kJ/mol)-Ext          (bar)    (A^3)        (kg/m^3) \n",
    "\n",
    "for chem_pot in chem_pots:\n",
    "    a = np.loadtxt(f\"equil_{chem_pot:.0f}_{temp:.0f}.out.prp\")\n",
    "    plt.scatter(a[:,0],a[:,1], label=f\"T = {temp:.0f}, μ = {chem_pot:.0f}\")\n",
    "\n",
    "plt.xlabel(\"Step\")\n",
    "plt.ylabel(\"Total Energy (kJ/mol)\")\n",
    "plt.title(\"Total Energy vs Step in Equilibration Runs\")\n",
    "plt.legend()\n",
    "plt.show()"
   ]
  },
  {
   "cell_type": "markdown",
   "metadata": {},
   "source": [
    "<a id=\"surf\"></a>\n",
    "## Let's add a surface!"
   ]
  },
  {
   "cell_type": "code",
   "execution_count": 13,
   "metadata": {},
   "outputs": [
    {
     "data": {
      "application/3dmoljs_load.v0": "<div id=\"3dmolviewer_1592856016776743\"  style=\"position: relative; width: 640px; height: 480px\">\n        <p id=\"3dmolwarning_1592856016776743\" style=\"background-color:#ffcccc;color:black\">You appear to be running in JupyterLab (or JavaScript failed to load for some other reason).  You need to install the 3dmol extension: <br>\n        <tt>jupyter labextension install jupyterlab_3dmol</tt></p>\n        </div>\n<script>\n\nvar loadScriptAsync = function(uri){\n  return new Promise((resolve, reject) => {\n    var tag = document.createElement('script');\n    tag.src = uri;\n    tag.async = true;\n    tag.onload = () => {\n      resolve();\n    };\n  var firstScriptTag = document.getElementsByTagName('script')[0];\n  firstScriptTag.parentNode.insertBefore(tag, firstScriptTag);\n});\n};\n\nif(typeof $3Dmolpromise === 'undefined') {\n$3Dmolpromise = null;\n  $3Dmolpromise = loadScriptAsync('https://3dmol.csb.pitt.edu/build/3Dmol.js');\n}\n\nvar viewer_1592856016776743 = null;\nvar warn = document.getElementById(\"3dmolwarning_1592856016776743\");\nif(warn) {\n    warn.parentNode.removeChild(warn);\n}\n$3Dmolpromise.then(function() {\nviewer_1592856016776743 = $3Dmol.createViewer($(\"#3dmolviewer_1592856016776743\"),{backgroundColor:\"white\"});\n\tviewer_1592856016776743.addModel(\"@<TRIPOS>MOLECULE\\nRES\\n200 0 1 0 1\\nSMALL\\nNO_CHARGES\\n@<TRIPOS>CRYSIN\\n  112.2462   112.2462    22.4492    90.0000    90.0000    90.0000  1  1\\n@<TRIPOS>ATOM\\n       1 C            0.0000     0.0000     0.0000 C             1 RES     \\n       2 C            0.0000     0.0000    11.2246 C             1 RES     \\n       3 C            0.0000    11.2246     0.0000 C             1 RES     \\n       4 C            0.0000    11.2246    11.2246 C             1 RES     \\n       5 C            0.0000    22.4492     0.0000 C             1 RES     \\n       6 C            0.0000    22.4492    11.2246 C             1 RES     \\n       7 C            0.0000    33.6739     0.0000 C             1 RES     \\n       8 C            0.0000    33.6739    11.2246 C             1 RES     \\n       9 C            0.0000    44.8985     0.0000 C             1 RES     \\n      10 C            0.0000    44.8985    11.2246 C             1 RES     \\n      11 C            0.0000    56.1231     0.0000 C             1 RES     \\n      12 C            0.0000    56.1231    11.2246 C             1 RES     \\n      13 C            0.0000    67.3477     0.0000 C             1 RES     \\n      14 C            0.0000    67.3477    11.2246 C             1 RES     \\n      15 C            0.0000    78.5723     0.0000 C             1 RES     \\n      16 C            0.0000    78.5723    11.2246 C             1 RES     \\n      17 C            0.0000    89.7970     0.0000 C             1 RES     \\n      18 C            0.0000    89.7970    11.2246 C             1 RES     \\n      19 C            0.0000   101.0216     0.0000 C             1 RES     \\n      20 C            0.0000   101.0216    11.2246 C             1 RES     \\n      21 C           11.2246     0.0000     0.0000 C             1 RES     \\n      22 C           11.2246     0.0000    11.2246 C             1 RES     \\n      23 C           11.2246    11.2246     0.0000 C             1 RES     \\n      24 C           11.2246    11.2246    11.2246 C             1 RES     \\n      25 C           11.2246    22.4492     0.0000 C             1 RES     \\n      26 C           11.2246    22.4492    11.2246 C             1 RES     \\n      27 C           11.2246    33.6739     0.0000 C             1 RES     \\n      28 C           11.2246    33.6739    11.2246 C             1 RES     \\n      29 C           11.2246    44.8985     0.0000 C             1 RES     \\n      30 C           11.2246    44.8985    11.2246 C             1 RES     \\n      31 C           11.2246    56.1231     0.0000 C             1 RES     \\n      32 C           11.2246    56.1231    11.2246 C             1 RES     \\n      33 C           11.2246    67.3477     0.0000 C             1 RES     \\n      34 C           11.2246    67.3477    11.2246 C             1 RES     \\n      35 C           11.2246    78.5723     0.0000 C             1 RES     \\n      36 C           11.2246    78.5723    11.2246 C             1 RES     \\n      37 C           11.2246    89.7970     0.0000 C             1 RES     \\n      38 C           11.2246    89.7970    11.2246 C             1 RES     \\n      39 C           11.2246   101.0216     0.0000 C             1 RES     \\n      40 C           11.2246   101.0216    11.2246 C             1 RES     \\n      41 C           22.4492     0.0000     0.0000 C             1 RES     \\n      42 C           22.4492     0.0000    11.2246 C             1 RES     \\n      43 C           22.4492    11.2246     0.0000 C             1 RES     \\n      44 C           22.4492    11.2246    11.2246 C             1 RES     \\n      45 C           22.4492    22.4492     0.0000 C             1 RES     \\n      46 C           22.4492    22.4492    11.2246 C             1 RES     \\n      47 C           22.4492    33.6739     0.0000 C             1 RES     \\n      48 C           22.4492    33.6739    11.2246 C             1 RES     \\n      49 C           22.4492    44.8985     0.0000 C             1 RES     \\n      50 C           22.4492    44.8985    11.2246 C             1 RES     \\n      51 C           22.4492    56.1231     0.0000 C             1 RES     \\n      52 C           22.4492    56.1231    11.2246 C             1 RES     \\n      53 C           22.4492    67.3477     0.0000 C             1 RES     \\n      54 C           22.4492    67.3477    11.2246 C             1 RES     \\n      55 C           22.4492    78.5723     0.0000 C             1 RES     \\n      56 C           22.4492    78.5723    11.2246 C             1 RES     \\n      57 C           22.4492    89.7970     0.0000 C             1 RES     \\n      58 C           22.4492    89.7970    11.2246 C             1 RES     \\n      59 C           22.4492   101.0216     0.0000 C             1 RES     \\n      60 C           22.4492   101.0216    11.2246 C             1 RES     \\n      61 C           33.6739     0.0000     0.0000 C             1 RES     \\n      62 C           33.6739     0.0000    11.2246 C             1 RES     \\n      63 C           33.6739    11.2246     0.0000 C             1 RES     \\n      64 C           33.6739    11.2246    11.2246 C             1 RES     \\n      65 C           33.6739    22.4492     0.0000 C             1 RES     \\n      66 C           33.6739    22.4492    11.2246 C             1 RES     \\n      67 C           33.6739    33.6739     0.0000 C             1 RES     \\n      68 C           33.6739    33.6739    11.2246 C             1 RES     \\n      69 C           33.6739    44.8985     0.0000 C             1 RES     \\n      70 C           33.6739    44.8985    11.2246 C             1 RES     \\n      71 C           33.6739    56.1231     0.0000 C             1 RES     \\n      72 C           33.6739    56.1231    11.2246 C             1 RES     \\n      73 C           33.6739    67.3477     0.0000 C             1 RES     \\n      74 C           33.6739    67.3477    11.2246 C             1 RES     \\n      75 C           33.6739    78.5723     0.0000 C             1 RES     \\n      76 C           33.6739    78.5723    11.2246 C             1 RES     \\n      77 C           33.6739    89.7970     0.0000 C             1 RES     \\n      78 C           33.6739    89.7970    11.2246 C             1 RES     \\n      79 C           33.6739   101.0216     0.0000 C             1 RES     \\n      80 C           33.6739   101.0216    11.2246 C             1 RES     \\n      81 C           44.8985     0.0000     0.0000 C             1 RES     \\n      82 C           44.8985     0.0000    11.2246 C             1 RES     \\n      83 C           44.8985    11.2246     0.0000 C             1 RES     \\n      84 C           44.8985    11.2246    11.2246 C             1 RES     \\n      85 C           44.8985    22.4492     0.0000 C             1 RES     \\n      86 C           44.8985    22.4492    11.2246 C             1 RES     \\n      87 C           44.8985    33.6739     0.0000 C             1 RES     \\n      88 C           44.8985    33.6739    11.2246 C             1 RES     \\n      89 C           44.8985    44.8985     0.0000 C             1 RES     \\n      90 C           44.8985    44.8985    11.2246 C             1 RES     \\n      91 C           44.8985    56.1231     0.0000 C             1 RES     \\n      92 C           44.8985    56.1231    11.2246 C             1 RES     \\n      93 C           44.8985    67.3477     0.0000 C             1 RES     \\n      94 C           44.8985    67.3477    11.2246 C             1 RES     \\n      95 C           44.8985    78.5723     0.0000 C             1 RES     \\n      96 C           44.8985    78.5723    11.2246 C             1 RES     \\n      97 C           44.8985    89.7970     0.0000 C             1 RES     \\n      98 C           44.8985    89.7970    11.2246 C             1 RES     \\n      99 C           44.8985   101.0216     0.0000 C             1 RES     \\n     100 C           44.8985   101.0216    11.2246 C             1 RES     \\n     101 C           56.1231     0.0000     0.0000 C             1 RES     \\n     102 C           56.1231     0.0000    11.2246 C             1 RES     \\n     103 C           56.1231    11.2246     0.0000 C             1 RES     \\n     104 C           56.1231    11.2246    11.2246 C             1 RES     \\n     105 C           56.1231    22.4492     0.0000 C             1 RES     \\n     106 C           56.1231    22.4492    11.2246 C             1 RES     \\n     107 C           56.1231    33.6739     0.0000 C             1 RES     \\n     108 C           56.1231    33.6739    11.2246 C             1 RES     \\n     109 C           56.1231    44.8985     0.0000 C             1 RES     \\n     110 C           56.1231    44.8985    11.2246 C             1 RES     \\n     111 C           56.1231    56.1231     0.0000 C             1 RES     \\n     112 C           56.1231    56.1231    11.2246 C             1 RES     \\n     113 C           56.1231    67.3477     0.0000 C             1 RES     \\n     114 C           56.1231    67.3477    11.2246 C             1 RES     \\n     115 C           56.1231    78.5723     0.0000 C             1 RES     \\n     116 C           56.1231    78.5723    11.2246 C             1 RES     \\n     117 C           56.1231    89.7970     0.0000 C             1 RES     \\n     118 C           56.1231    89.7970    11.2246 C             1 RES     \\n     119 C           56.1231   101.0216     0.0000 C             1 RES     \\n     120 C           56.1231   101.0216    11.2246 C             1 RES     \\n     121 C           67.3477     0.0000     0.0000 C             1 RES     \\n     122 C           67.3477     0.0000    11.2246 C             1 RES     \\n     123 C           67.3477    11.2246     0.0000 C             1 RES     \\n     124 C           67.3477    11.2246    11.2246 C             1 RES     \\n     125 C           67.3477    22.4492     0.0000 C             1 RES     \\n     126 C           67.3477    22.4492    11.2246 C             1 RES     \\n     127 C           67.3477    33.6739     0.0000 C             1 RES     \\n     128 C           67.3477    33.6739    11.2246 C             1 RES     \\n     129 C           67.3477    44.8985     0.0000 C             1 RES     \\n     130 C           67.3477    44.8985    11.2246 C             1 RES     \\n     131 C           67.3477    56.1231     0.0000 C             1 RES     \\n     132 C           67.3477    56.1231    11.2246 C             1 RES     \\n     133 C           67.3477    67.3477     0.0000 C             1 RES     \\n     134 C           67.3477    67.3477    11.2246 C             1 RES     \\n     135 C           67.3477    78.5723     0.0000 C             1 RES     \\n     136 C           67.3477    78.5723    11.2246 C             1 RES     \\n     137 C           67.3477    89.7970     0.0000 C             1 RES     \\n     138 C           67.3477    89.7970    11.2246 C             1 RES     \\n     139 C           67.3477   101.0216     0.0000 C             1 RES     \\n     140 C           67.3477   101.0216    11.2246 C             1 RES     \\n     141 C           78.5723     0.0000     0.0000 C             1 RES     \\n     142 C           78.5723     0.0000    11.2246 C             1 RES     \\n     143 C           78.5723    11.2246     0.0000 C             1 RES     \\n     144 C           78.5723    11.2246    11.2246 C             1 RES     \\n     145 C           78.5723    22.4492     0.0000 C             1 RES     \\n     146 C           78.5723    22.4492    11.2246 C             1 RES     \\n     147 C           78.5723    33.6739     0.0000 C             1 RES     \\n     148 C           78.5723    33.6739    11.2246 C             1 RES     \\n     149 C           78.5723    44.8985     0.0000 C             1 RES     \\n     150 C           78.5723    44.8985    11.2246 C             1 RES     \\n     151 C           78.5723    56.1231     0.0000 C             1 RES     \\n     152 C           78.5723    56.1231    11.2246 C             1 RES     \\n     153 C           78.5723    67.3477     0.0000 C             1 RES     \\n     154 C           78.5723    67.3477    11.2246 C             1 RES     \\n     155 C           78.5723    78.5723     0.0000 C             1 RES     \\n     156 C           78.5723    78.5723    11.2246 C             1 RES     \\n     157 C           78.5723    89.7970     0.0000 C             1 RES     \\n     158 C           78.5723    89.7970    11.2246 C             1 RES     \\n     159 C           78.5723   101.0216     0.0000 C             1 RES     \\n     160 C           78.5723   101.0216    11.2246 C             1 RES     \\n     161 C           89.7970     0.0000     0.0000 C             1 RES     \\n     162 C           89.7970     0.0000    11.2246 C             1 RES     \\n     163 C           89.7970    11.2246     0.0000 C             1 RES     \\n     164 C           89.7970    11.2246    11.2246 C             1 RES     \\n     165 C           89.7970    22.4492     0.0000 C             1 RES     \\n     166 C           89.7970    22.4492    11.2246 C             1 RES     \\n     167 C           89.7970    33.6739     0.0000 C             1 RES     \\n     168 C           89.7970    33.6739    11.2246 C             1 RES     \\n     169 C           89.7970    44.8985     0.0000 C             1 RES     \\n     170 C           89.7970    44.8985    11.2246 C             1 RES     \\n     171 C           89.7970    56.1231     0.0000 C             1 RES     \\n     172 C           89.7970    56.1231    11.2246 C             1 RES     \\n     173 C           89.7970    67.3477     0.0000 C             1 RES     \\n     174 C           89.7970    67.3477    11.2246 C             1 RES     \\n     175 C           89.7970    78.5723     0.0000 C             1 RES     \\n     176 C           89.7970    78.5723    11.2246 C             1 RES     \\n     177 C           89.7970    89.7970     0.0000 C             1 RES     \\n     178 C           89.7970    89.7970    11.2246 C             1 RES     \\n     179 C           89.7970   101.0216     0.0000 C             1 RES     \\n     180 C           89.7970   101.0216    11.2246 C             1 RES     \\n     181 C          101.0216     0.0000     0.0000 C             1 RES     \\n     182 C          101.0216     0.0000    11.2246 C             1 RES     \\n     183 C          101.0216    11.2246     0.0000 C             1 RES     \\n     184 C          101.0216    11.2246    11.2246 C             1 RES     \\n     185 C          101.0216    22.4492     0.0000 C             1 RES     \\n     186 C          101.0216    22.4492    11.2246 C             1 RES     \\n     187 C          101.0216    33.6739     0.0000 C             1 RES     \\n     188 C          101.0216    33.6739    11.2246 C             1 RES     \\n     189 C          101.0216    44.8985     0.0000 C             1 RES     \\n     190 C          101.0216    44.8985    11.2246 C             1 RES     \\n     191 C          101.0216    56.1231     0.0000 C             1 RES     \\n     192 C          101.0216    56.1231    11.2246 C             1 RES     \\n     193 C          101.0216    67.3477     0.0000 C             1 RES     \\n     194 C          101.0216    67.3477    11.2246 C             1 RES     \\n     195 C          101.0216    78.5723     0.0000 C             1 RES     \\n     196 C          101.0216    78.5723    11.2246 C             1 RES     \\n     197 C          101.0216    89.7970     0.0000 C             1 RES     \\n     198 C          101.0216    89.7970    11.2246 C             1 RES     \\n     199 C          101.0216   101.0216     0.0000 C             1 RES     \\n     200 C          101.0216   101.0216    11.2246 C             1 RES     \\n@<TRIPOS>BOND\\n@<TRIPOS>SUBSTRUCTURE\\n       1 RES             1 RESIDUE    0 **** ROOT      0\\n\",\"mol2\");\n\tviewer_1592856016776743.setStyle({\"stick\": {\"radius\": 0.2, \"color\": \"grey\"}, \"sphere\": {\"scale\": 0.3, \"colorscheme\": {}}});\n\tviewer_1592856016776743.zoomTo();\nviewer_1592856016776743.render();\n});\n</script>",
      "text/html": [
       "<div id=\"3dmolviewer_1592856016776743\"  style=\"position: relative; width: 640px; height: 480px\">\n",
       "        <p id=\"3dmolwarning_1592856016776743\" style=\"background-color:#ffcccc;color:black\">You appear to be running in JupyterLab (or JavaScript failed to load for some other reason).  You need to install the 3dmol extension: <br>\n",
       "        <tt>jupyter labextension install jupyterlab_3dmol</tt></p>\n",
       "        </div>\n",
       "<script>\n",
       "\n",
       "var loadScriptAsync = function(uri){\n",
       "  return new Promise((resolve, reject) => {\n",
       "    var tag = document.createElement('script');\n",
       "    tag.src = uri;\n",
       "    tag.async = true;\n",
       "    tag.onload = () => {\n",
       "      resolve();\n",
       "    };\n",
       "  var firstScriptTag = document.getElementsByTagName('script')[0];\n",
       "  firstScriptTag.parentNode.insertBefore(tag, firstScriptTag);\n",
       "});\n",
       "};\n",
       "\n",
       "if(typeof $3Dmolpromise === 'undefined') {\n",
       "$3Dmolpromise = null;\n",
       "  $3Dmolpromise = loadScriptAsync('https://3dmol.csb.pitt.edu/build/3Dmol.js');\n",
       "}\n",
       "\n",
       "var viewer_1592856016776743 = null;\n",
       "var warn = document.getElementById(\"3dmolwarning_1592856016776743\");\n",
       "if(warn) {\n",
       "    warn.parentNode.removeChild(warn);\n",
       "}\n",
       "$3Dmolpromise.then(function() {\n",
       "viewer_1592856016776743 = $3Dmol.createViewer($(\"#3dmolviewer_1592856016776743\"),{backgroundColor:\"white\"});\n",
       "\tviewer_1592856016776743.addModel(\"@<TRIPOS>MOLECULE\\nRES\\n200 0 1 0 1\\nSMALL\\nNO_CHARGES\\n@<TRIPOS>CRYSIN\\n  112.2462   112.2462    22.4492    90.0000    90.0000    90.0000  1  1\\n@<TRIPOS>ATOM\\n       1 C            0.0000     0.0000     0.0000 C             1 RES     \\n       2 C            0.0000     0.0000    11.2246 C             1 RES     \\n       3 C            0.0000    11.2246     0.0000 C             1 RES     \\n       4 C            0.0000    11.2246    11.2246 C             1 RES     \\n       5 C            0.0000    22.4492     0.0000 C             1 RES     \\n       6 C            0.0000    22.4492    11.2246 C             1 RES     \\n       7 C            0.0000    33.6739     0.0000 C             1 RES     \\n       8 C            0.0000    33.6739    11.2246 C             1 RES     \\n       9 C            0.0000    44.8985     0.0000 C             1 RES     \\n      10 C            0.0000    44.8985    11.2246 C             1 RES     \\n      11 C            0.0000    56.1231     0.0000 C             1 RES     \\n      12 C            0.0000    56.1231    11.2246 C             1 RES     \\n      13 C            0.0000    67.3477     0.0000 C             1 RES     \\n      14 C            0.0000    67.3477    11.2246 C             1 RES     \\n      15 C            0.0000    78.5723     0.0000 C             1 RES     \\n      16 C            0.0000    78.5723    11.2246 C             1 RES     \\n      17 C            0.0000    89.7970     0.0000 C             1 RES     \\n      18 C            0.0000    89.7970    11.2246 C             1 RES     \\n      19 C            0.0000   101.0216     0.0000 C             1 RES     \\n      20 C            0.0000   101.0216    11.2246 C             1 RES     \\n      21 C           11.2246     0.0000     0.0000 C             1 RES     \\n      22 C           11.2246     0.0000    11.2246 C             1 RES     \\n      23 C           11.2246    11.2246     0.0000 C             1 RES     \\n      24 C           11.2246    11.2246    11.2246 C             1 RES     \\n      25 C           11.2246    22.4492     0.0000 C             1 RES     \\n      26 C           11.2246    22.4492    11.2246 C             1 RES     \\n      27 C           11.2246    33.6739     0.0000 C             1 RES     \\n      28 C           11.2246    33.6739    11.2246 C             1 RES     \\n      29 C           11.2246    44.8985     0.0000 C             1 RES     \\n      30 C           11.2246    44.8985    11.2246 C             1 RES     \\n      31 C           11.2246    56.1231     0.0000 C             1 RES     \\n      32 C           11.2246    56.1231    11.2246 C             1 RES     \\n      33 C           11.2246    67.3477     0.0000 C             1 RES     \\n      34 C           11.2246    67.3477    11.2246 C             1 RES     \\n      35 C           11.2246    78.5723     0.0000 C             1 RES     \\n      36 C           11.2246    78.5723    11.2246 C             1 RES     \\n      37 C           11.2246    89.7970     0.0000 C             1 RES     \\n      38 C           11.2246    89.7970    11.2246 C             1 RES     \\n      39 C           11.2246   101.0216     0.0000 C             1 RES     \\n      40 C           11.2246   101.0216    11.2246 C             1 RES     \\n      41 C           22.4492     0.0000     0.0000 C             1 RES     \\n      42 C           22.4492     0.0000    11.2246 C             1 RES     \\n      43 C           22.4492    11.2246     0.0000 C             1 RES     \\n      44 C           22.4492    11.2246    11.2246 C             1 RES     \\n      45 C           22.4492    22.4492     0.0000 C             1 RES     \\n      46 C           22.4492    22.4492    11.2246 C             1 RES     \\n      47 C           22.4492    33.6739     0.0000 C             1 RES     \\n      48 C           22.4492    33.6739    11.2246 C             1 RES     \\n      49 C           22.4492    44.8985     0.0000 C             1 RES     \\n      50 C           22.4492    44.8985    11.2246 C             1 RES     \\n      51 C           22.4492    56.1231     0.0000 C             1 RES     \\n      52 C           22.4492    56.1231    11.2246 C             1 RES     \\n      53 C           22.4492    67.3477     0.0000 C             1 RES     \\n      54 C           22.4492    67.3477    11.2246 C             1 RES     \\n      55 C           22.4492    78.5723     0.0000 C             1 RES     \\n      56 C           22.4492    78.5723    11.2246 C             1 RES     \\n      57 C           22.4492    89.7970     0.0000 C             1 RES     \\n      58 C           22.4492    89.7970    11.2246 C             1 RES     \\n      59 C           22.4492   101.0216     0.0000 C             1 RES     \\n      60 C           22.4492   101.0216    11.2246 C             1 RES     \\n      61 C           33.6739     0.0000     0.0000 C             1 RES     \\n      62 C           33.6739     0.0000    11.2246 C             1 RES     \\n      63 C           33.6739    11.2246     0.0000 C             1 RES     \\n      64 C           33.6739    11.2246    11.2246 C             1 RES     \\n      65 C           33.6739    22.4492     0.0000 C             1 RES     \\n      66 C           33.6739    22.4492    11.2246 C             1 RES     \\n      67 C           33.6739    33.6739     0.0000 C             1 RES     \\n      68 C           33.6739    33.6739    11.2246 C             1 RES     \\n      69 C           33.6739    44.8985     0.0000 C             1 RES     \\n      70 C           33.6739    44.8985    11.2246 C             1 RES     \\n      71 C           33.6739    56.1231     0.0000 C             1 RES     \\n      72 C           33.6739    56.1231    11.2246 C             1 RES     \\n      73 C           33.6739    67.3477     0.0000 C             1 RES     \\n      74 C           33.6739    67.3477    11.2246 C             1 RES     \\n      75 C           33.6739    78.5723     0.0000 C             1 RES     \\n      76 C           33.6739    78.5723    11.2246 C             1 RES     \\n      77 C           33.6739    89.7970     0.0000 C             1 RES     \\n      78 C           33.6739    89.7970    11.2246 C             1 RES     \\n      79 C           33.6739   101.0216     0.0000 C             1 RES     \\n      80 C           33.6739   101.0216    11.2246 C             1 RES     \\n      81 C           44.8985     0.0000     0.0000 C             1 RES     \\n      82 C           44.8985     0.0000    11.2246 C             1 RES     \\n      83 C           44.8985    11.2246     0.0000 C             1 RES     \\n      84 C           44.8985    11.2246    11.2246 C             1 RES     \\n      85 C           44.8985    22.4492     0.0000 C             1 RES     \\n      86 C           44.8985    22.4492    11.2246 C             1 RES     \\n      87 C           44.8985    33.6739     0.0000 C             1 RES     \\n      88 C           44.8985    33.6739    11.2246 C             1 RES     \\n      89 C           44.8985    44.8985     0.0000 C             1 RES     \\n      90 C           44.8985    44.8985    11.2246 C             1 RES     \\n      91 C           44.8985    56.1231     0.0000 C             1 RES     \\n      92 C           44.8985    56.1231    11.2246 C             1 RES     \\n      93 C           44.8985    67.3477     0.0000 C             1 RES     \\n      94 C           44.8985    67.3477    11.2246 C             1 RES     \\n      95 C           44.8985    78.5723     0.0000 C             1 RES     \\n      96 C           44.8985    78.5723    11.2246 C             1 RES     \\n      97 C           44.8985    89.7970     0.0000 C             1 RES     \\n      98 C           44.8985    89.7970    11.2246 C             1 RES     \\n      99 C           44.8985   101.0216     0.0000 C             1 RES     \\n     100 C           44.8985   101.0216    11.2246 C             1 RES     \\n     101 C           56.1231     0.0000     0.0000 C             1 RES     \\n     102 C           56.1231     0.0000    11.2246 C             1 RES     \\n     103 C           56.1231    11.2246     0.0000 C             1 RES     \\n     104 C           56.1231    11.2246    11.2246 C             1 RES     \\n     105 C           56.1231    22.4492     0.0000 C             1 RES     \\n     106 C           56.1231    22.4492    11.2246 C             1 RES     \\n     107 C           56.1231    33.6739     0.0000 C             1 RES     \\n     108 C           56.1231    33.6739    11.2246 C             1 RES     \\n     109 C           56.1231    44.8985     0.0000 C             1 RES     \\n     110 C           56.1231    44.8985    11.2246 C             1 RES     \\n     111 C           56.1231    56.1231     0.0000 C             1 RES     \\n     112 C           56.1231    56.1231    11.2246 C             1 RES     \\n     113 C           56.1231    67.3477     0.0000 C             1 RES     \\n     114 C           56.1231    67.3477    11.2246 C             1 RES     \\n     115 C           56.1231    78.5723     0.0000 C             1 RES     \\n     116 C           56.1231    78.5723    11.2246 C             1 RES     \\n     117 C           56.1231    89.7970     0.0000 C             1 RES     \\n     118 C           56.1231    89.7970    11.2246 C             1 RES     \\n     119 C           56.1231   101.0216     0.0000 C             1 RES     \\n     120 C           56.1231   101.0216    11.2246 C             1 RES     \\n     121 C           67.3477     0.0000     0.0000 C             1 RES     \\n     122 C           67.3477     0.0000    11.2246 C             1 RES     \\n     123 C           67.3477    11.2246     0.0000 C             1 RES     \\n     124 C           67.3477    11.2246    11.2246 C             1 RES     \\n     125 C           67.3477    22.4492     0.0000 C             1 RES     \\n     126 C           67.3477    22.4492    11.2246 C             1 RES     \\n     127 C           67.3477    33.6739     0.0000 C             1 RES     \\n     128 C           67.3477    33.6739    11.2246 C             1 RES     \\n     129 C           67.3477    44.8985     0.0000 C             1 RES     \\n     130 C           67.3477    44.8985    11.2246 C             1 RES     \\n     131 C           67.3477    56.1231     0.0000 C             1 RES     \\n     132 C           67.3477    56.1231    11.2246 C             1 RES     \\n     133 C           67.3477    67.3477     0.0000 C             1 RES     \\n     134 C           67.3477    67.3477    11.2246 C             1 RES     \\n     135 C           67.3477    78.5723     0.0000 C             1 RES     \\n     136 C           67.3477    78.5723    11.2246 C             1 RES     \\n     137 C           67.3477    89.7970     0.0000 C             1 RES     \\n     138 C           67.3477    89.7970    11.2246 C             1 RES     \\n     139 C           67.3477   101.0216     0.0000 C             1 RES     \\n     140 C           67.3477   101.0216    11.2246 C             1 RES     \\n     141 C           78.5723     0.0000     0.0000 C             1 RES     \\n     142 C           78.5723     0.0000    11.2246 C             1 RES     \\n     143 C           78.5723    11.2246     0.0000 C             1 RES     \\n     144 C           78.5723    11.2246    11.2246 C             1 RES     \\n     145 C           78.5723    22.4492     0.0000 C             1 RES     \\n     146 C           78.5723    22.4492    11.2246 C             1 RES     \\n     147 C           78.5723    33.6739     0.0000 C             1 RES     \\n     148 C           78.5723    33.6739    11.2246 C             1 RES     \\n     149 C           78.5723    44.8985     0.0000 C             1 RES     \\n     150 C           78.5723    44.8985    11.2246 C             1 RES     \\n     151 C           78.5723    56.1231     0.0000 C             1 RES     \\n     152 C           78.5723    56.1231    11.2246 C             1 RES     \\n     153 C           78.5723    67.3477     0.0000 C             1 RES     \\n     154 C           78.5723    67.3477    11.2246 C             1 RES     \\n     155 C           78.5723    78.5723     0.0000 C             1 RES     \\n     156 C           78.5723    78.5723    11.2246 C             1 RES     \\n     157 C           78.5723    89.7970     0.0000 C             1 RES     \\n     158 C           78.5723    89.7970    11.2246 C             1 RES     \\n     159 C           78.5723   101.0216     0.0000 C             1 RES     \\n     160 C           78.5723   101.0216    11.2246 C             1 RES     \\n     161 C           89.7970     0.0000     0.0000 C             1 RES     \\n     162 C           89.7970     0.0000    11.2246 C             1 RES     \\n     163 C           89.7970    11.2246     0.0000 C             1 RES     \\n     164 C           89.7970    11.2246    11.2246 C             1 RES     \\n     165 C           89.7970    22.4492     0.0000 C             1 RES     \\n     166 C           89.7970    22.4492    11.2246 C             1 RES     \\n     167 C           89.7970    33.6739     0.0000 C             1 RES     \\n     168 C           89.7970    33.6739    11.2246 C             1 RES     \\n     169 C           89.7970    44.8985     0.0000 C             1 RES     \\n     170 C           89.7970    44.8985    11.2246 C             1 RES     \\n     171 C           89.7970    56.1231     0.0000 C             1 RES     \\n     172 C           89.7970    56.1231    11.2246 C             1 RES     \\n     173 C           89.7970    67.3477     0.0000 C             1 RES     \\n     174 C           89.7970    67.3477    11.2246 C             1 RES     \\n     175 C           89.7970    78.5723     0.0000 C             1 RES     \\n     176 C           89.7970    78.5723    11.2246 C             1 RES     \\n     177 C           89.7970    89.7970     0.0000 C             1 RES     \\n     178 C           89.7970    89.7970    11.2246 C             1 RES     \\n     179 C           89.7970   101.0216     0.0000 C             1 RES     \\n     180 C           89.7970   101.0216    11.2246 C             1 RES     \\n     181 C          101.0216     0.0000     0.0000 C             1 RES     \\n     182 C          101.0216     0.0000    11.2246 C             1 RES     \\n     183 C          101.0216    11.2246     0.0000 C             1 RES     \\n     184 C          101.0216    11.2246    11.2246 C             1 RES     \\n     185 C          101.0216    22.4492     0.0000 C             1 RES     \\n     186 C          101.0216    22.4492    11.2246 C             1 RES     \\n     187 C          101.0216    33.6739     0.0000 C             1 RES     \\n     188 C          101.0216    33.6739    11.2246 C             1 RES     \\n     189 C          101.0216    44.8985     0.0000 C             1 RES     \\n     190 C          101.0216    44.8985    11.2246 C             1 RES     \\n     191 C          101.0216    56.1231     0.0000 C             1 RES     \\n     192 C          101.0216    56.1231    11.2246 C             1 RES     \\n     193 C          101.0216    67.3477     0.0000 C             1 RES     \\n     194 C          101.0216    67.3477    11.2246 C             1 RES     \\n     195 C          101.0216    78.5723     0.0000 C             1 RES     \\n     196 C          101.0216    78.5723    11.2246 C             1 RES     \\n     197 C          101.0216    89.7970     0.0000 C             1 RES     \\n     198 C          101.0216    89.7970    11.2246 C             1 RES     \\n     199 C          101.0216   101.0216     0.0000 C             1 RES     \\n     200 C          101.0216   101.0216    11.2246 C             1 RES     \\n@<TRIPOS>BOND\\n@<TRIPOS>SUBSTRUCTURE\\n       1 RES             1 RESIDUE    0 **** ROOT      0\\n\",\"mol2\");\n",
       "\tviewer_1592856016776743.setStyle({\"stick\": {\"radius\": 0.2, \"color\": \"grey\"}, \"sphere\": {\"scale\": 0.3, \"colorscheme\": {}}});\n",
       "\tviewer_1592856016776743.zoomTo();\n",
       "viewer_1592856016776743.render();\n",
       "});\n",
       "</script>"
      ]
     },
     "metadata": {},
     "output_type": "display_data"
    }
   ],
   "source": [
    "# sigma is 1 in nm (mbuild units)\n",
    "# 2**(1/6) * sigma is the minimum of the LJ potential\n",
    "mindist = 2**(1/6)\n",
    "ljium.periodicity = np.ones(3)*mindist\n",
    "tiled_surface = mb.lib.recipes.TiledCompound(ljium, n_tiles=(10, 10, 2))\n",
    "tiled_surface.visualize().show()"
   ]
  },
  {
   "cell_type": "code",
   "execution_count": 15,
   "metadata": {},
   "outputs": [
    {
     "name": "stdout",
     "output_type": "stream",
     "text": [
      "before: [11.22462048 11.22462048  2.2449241 ]\n",
      "before: [11.22462048 11.22462048 12.2449241 ]\n"
     ]
    }
   ],
   "source": [
    "# add some space in the z-direction\n",
    "print(f\"before: {tiled_surface.periodicity}\")\n",
    "tiled_surface.periodicity = tiled_surface.periodicity + np.array([0,0,10])\n",
    "print(f\"after: {tiled_surface.periodicity}\")"
   ]
  },
  {
   "cell_type": "code",
   "execution_count": 50,
   "metadata": {},
   "outputs": [],
   "source": [
    "tiled_surface.translate_to([0,0,0])"
   ]
  },
  {
   "cell_type": "code",
   "execution_count": 51,
   "metadata": {},
   "outputs": [
    {
     "name": "stderr",
     "output_type": "stream",
     "text": [
      "/Users/jenny/miniconda3/envs/cassandra/lib/python3.7/site-packages/parmed/openmm/topsystem.py:238: OpenMMWarning: Adding what seems to be Urey-Bradley terms before Angles. This is unexpected, but the parameters will all be present in one form or another.\n",
      "  'all be present in one form or another.', OpenMMWarning)\n"
     ]
    }
   ],
   "source": [
    "typed_surface = lj_ff.apply(\n",
    "    tiled_surface, assert_bond_params=False, assert_angle_params=False, \n",
    "    assert_dihedral_params=False\n",
    ") "
   ]
  },
  {
   "cell_type": "code",
   "execution_count": 52,
   "metadata": {},
   "outputs": [],
   "source": [
    "def run_cassandra_surf(chem_pot, temp):\n",
    "    # Create box and species list\n",
    "    box_list = [tiled_surface]\n",
    "    species_list = [typed_surface,typed_ljium]\n",
    "\n",
    "    # Since we have an occupied box we need to specify\n",
    "    # the number of each species present in the intial config\n",
    "    mols_in_boxes = [[1,0]]\n",
    "\n",
    "    system = mc.System(box_list, species_list, mols_in_boxes=mols_in_boxes)\n",
    "    moves = mc.Moves(\"gcmc\", species_list)\n",
    "\n",
    "    custom_args = {\n",
    "        \"run_name\": f\"surfequil_{chem_pot:.0f}_{temp:.0f}\",\n",
    "        \"chemical_potentials\": [\"none\",chem_pot],\n",
    "        \"rcut_min\": 0.5,\n",
    "        \"vdw_cutoff\": min(box.lengths)/2.1,\n",
    "        \"charge_style\": \"none\",\n",
    "        #\"charge_cutoff\": 14.0,\n",
    "        \"coord_freq\": 100,\n",
    "        \"prop_freq\": 10,\n",
    "    }\n",
    "\n",
    "    mc.run(\n",
    "        system=system, \n",
    "        moves=moves, \n",
    "        run_type=\"equilibration\", \n",
    "        run_length=10000, \n",
    "        temperature=temp, \n",
    "        **custom_args\n",
    "    )\n",
    "    \n",
    "    # Set max translate and volume for production\n",
    "    moves.max_translate = [[0,10.0]] # angstroms\n",
    "\n",
    "    # Update run_name and restart_name\n",
    "    custom_args[\"run_name\"] = f\"surfprod_{chem_pot:.0f}_{temp:.0f}\"\n",
    "    custom_args[\"restart_name\"] = f\"surfequil_{chem_pot:.0f}_{temp:.0f}\"\n",
    "\n",
    "    mc.restart(\n",
    "        system=system,\n",
    "        moves=moves,\n",
    "        run_type=\"production\",\n",
    "        run_length=50000,\n",
    "        temperature=temp,\n",
    "        **custom_args,\n",
    "    )"
   ]
  },
  {
   "cell_type": "code",
   "execution_count": 53,
   "metadata": {},
   "outputs": [],
   "source": [
    "# remove previous runs\n",
    "!rm -rf species* *.out.* *.in* mosdef*.log"
   ]
  },
  {
   "cell_type": "code",
   "execution_count": 54,
   "metadata": {},
   "outputs": [
    {
     "name": "stdout",
     "output_type": "stream",
     "text": [
      "Treating <Structure 200 atoms; 1 residues; 0 bonds; PBC (orthogonal); NOT parametrized> as a non-insertable rigid species since it has no bonds\n",
      "Using the following executables for Cassandra:\n",
      "Python: /Users/jenny/miniconda3/envs/cassandra/bin/python\n",
      "library_setup: /Users/jenny/miniconda3/envs/cassandra/bin/library_setup.py\n",
      "Cassandra: /Users/jenny/miniconda3/envs/cassandra/bin/cassandra.exe\n",
      "Generating fragment libraries...\n"
     ]
    },
    {
     "name": "stderr",
     "output_type": "stream",
     "text": [
      "/Users/jenny/miniconda3/envs/cassandra/lib/python3.7/site-packages/mbuild/formats/cassandramcf.py:178: UserWarning: No bonds found. Cassandra will interpet this as a rigid species\n",
      "  warnings.warn(\"No bonds found. Cassandra will interpet \"\n",
      "/Users/jenny/miniconda3/envs/cassandra/lib/python3.7/site-packages/mbuild/formats/cassandramcf.py:564: UserWarning: More than two atoms present but no fragments identified.\n",
      "  warnings.warn('More than two atoms present but '\n"
     ]
    },
    {
     "name": "stdout",
     "output_type": "stream",
     "text": [
      "Running Cassandra...\n",
      "Using the following executables for Cassandra:\n",
      "Python: /Users/jenny/miniconda3/envs/cassandra/bin/python\n",
      "library_setup: /Users/jenny/miniconda3/envs/cassandra/bin/library_setup.py\n",
      "Cassandra: /Users/jenny/miniconda3/envs/cassandra/bin/cassandra.exe\n",
      "Running Cassandra...\n",
      "Treating <Structure 200 atoms; 1 residues; 0 bonds; PBC (orthogonal); NOT parametrized> as a non-insertable rigid species since it has no bonds\n",
      "Using the following executables for Cassandra:\n",
      "Python: /Users/jenny/miniconda3/envs/cassandra/bin/python\n",
      "library_setup: /Users/jenny/miniconda3/envs/cassandra/bin/library_setup.py\n",
      "Cassandra: /Users/jenny/miniconda3/envs/cassandra/bin/cassandra.exe\n",
      "Generating fragment libraries...\n",
      "Running Cassandra...\n",
      "Using the following executables for Cassandra:\n",
      "Python: /Users/jenny/miniconda3/envs/cassandra/bin/python\n",
      "library_setup: /Users/jenny/miniconda3/envs/cassandra/bin/library_setup.py\n",
      "Cassandra: /Users/jenny/miniconda3/envs/cassandra/bin/cassandra.exe\n",
      "Running Cassandra...\n",
      "Treating <Structure 200 atoms; 1 residues; 0 bonds; PBC (orthogonal); NOT parametrized> as a non-insertable rigid species since it has no bonds\n",
      "Using the following executables for Cassandra:\n",
      "Python: /Users/jenny/miniconda3/envs/cassandra/bin/python\n",
      "library_setup: /Users/jenny/miniconda3/envs/cassandra/bin/library_setup.py\n",
      "Cassandra: /Users/jenny/miniconda3/envs/cassandra/bin/cassandra.exe\n",
      "Generating fragment libraries...\n",
      "Running Cassandra...\n",
      "Using the following executables for Cassandra:\n",
      "Python: /Users/jenny/miniconda3/envs/cassandra/bin/python\n",
      "library_setup: /Users/jenny/miniconda3/envs/cassandra/bin/library_setup.py\n",
      "Cassandra: /Users/jenny/miniconda3/envs/cassandra/bin/cassandra.exe\n",
      "Running Cassandra...\n",
      "Treating <Structure 200 atoms; 1 residues; 0 bonds; PBC (orthogonal); NOT parametrized> as a non-insertable rigid species since it has no bonds\n",
      "Using the following executables for Cassandra:\n",
      "Python: /Users/jenny/miniconda3/envs/cassandra/bin/python\n",
      "library_setup: /Users/jenny/miniconda3/envs/cassandra/bin/library_setup.py\n",
      "Cassandra: /Users/jenny/miniconda3/envs/cassandra/bin/cassandra.exe\n",
      "Generating fragment libraries...\n",
      "Running Cassandra...\n",
      "Using the following executables for Cassandra:\n",
      "Python: /Users/jenny/miniconda3/envs/cassandra/bin/python\n",
      "library_setup: /Users/jenny/miniconda3/envs/cassandra/bin/library_setup.py\n",
      "Cassandra: /Users/jenny/miniconda3/envs/cassandra/bin/cassandra.exe\n",
      "Running Cassandra...\n",
      "Treating <Structure 200 atoms; 1 residues; 0 bonds; PBC (orthogonal); NOT parametrized> as a non-insertable rigid species since it has no bonds\n",
      "Using the following executables for Cassandra:\n",
      "Python: /Users/jenny/miniconda3/envs/cassandra/bin/python\n",
      "library_setup: /Users/jenny/miniconda3/envs/cassandra/bin/library_setup.py\n",
      "Cassandra: /Users/jenny/miniconda3/envs/cassandra/bin/cassandra.exe\n",
      "Generating fragment libraries...\n",
      "Running Cassandra...\n",
      "Using the following executables for Cassandra:\n",
      "Python: /Users/jenny/miniconda3/envs/cassandra/bin/python\n",
      "library_setup: /Users/jenny/miniconda3/envs/cassandra/bin/library_setup.py\n",
      "Cassandra: /Users/jenny/miniconda3/envs/cassandra/bin/cassandra.exe\n",
      "Running Cassandra...\n",
      "Treating <Structure 200 atoms; 1 residues; 0 bonds; PBC (orthogonal); NOT parametrized> as a non-insertable rigid species since it has no bonds\n",
      "Using the following executables for Cassandra:\n",
      "Python: /Users/jenny/miniconda3/envs/cassandra/bin/python\n",
      "library_setup: /Users/jenny/miniconda3/envs/cassandra/bin/library_setup.py\n",
      "Cassandra: /Users/jenny/miniconda3/envs/cassandra/bin/cassandra.exe\n",
      "Generating fragment libraries...\n",
      "Running Cassandra...\n",
      "Using the following executables for Cassandra:\n",
      "Python: /Users/jenny/miniconda3/envs/cassandra/bin/python\n",
      "library_setup: /Users/jenny/miniconda3/envs/cassandra/bin/library_setup.py\n",
      "Cassandra: /Users/jenny/miniconda3/envs/cassandra/bin/cassandra.exe\n",
      "Running Cassandra...\n",
      "Treating <Structure 200 atoms; 1 residues; 0 bonds; PBC (orthogonal); NOT parametrized> as a non-insertable rigid species since it has no bonds\n",
      "Using the following executables for Cassandra:\n",
      "Python: /Users/jenny/miniconda3/envs/cassandra/bin/python\n",
      "library_setup: /Users/jenny/miniconda3/envs/cassandra/bin/library_setup.py\n",
      "Cassandra: /Users/jenny/miniconda3/envs/cassandra/bin/cassandra.exe\n",
      "Generating fragment libraries...\n",
      "Running Cassandra...\n",
      "Using the following executables for Cassandra:\n",
      "Python: /Users/jenny/miniconda3/envs/cassandra/bin/python\n",
      "library_setup: /Users/jenny/miniconda3/envs/cassandra/bin/library_setup.py\n",
      "Cassandra: /Users/jenny/miniconda3/envs/cassandra/bin/cassandra.exe\n",
      "Running Cassandra...\n",
      "Treating <Structure 200 atoms; 1 residues; 0 bonds; PBC (orthogonal); NOT parametrized> as a non-insertable rigid species since it has no bonds\n",
      "Using the following executables for Cassandra:\n",
      "Python: /Users/jenny/miniconda3/envs/cassandra/bin/python\n",
      "library_setup: /Users/jenny/miniconda3/envs/cassandra/bin/library_setup.py\n",
      "Cassandra: /Users/jenny/miniconda3/envs/cassandra/bin/cassandra.exe\n",
      "Generating fragment libraries...\n",
      "Running Cassandra...\n",
      "Using the following executables for Cassandra:\n",
      "Python: /Users/jenny/miniconda3/envs/cassandra/bin/python\n",
      "library_setup: /Users/jenny/miniconda3/envs/cassandra/bin/library_setup.py\n",
      "Cassandra: /Users/jenny/miniconda3/envs/cassandra/bin/cassandra.exe\n",
      "Running Cassandra...\n",
      "Treating <Structure 200 atoms; 1 residues; 0 bonds; PBC (orthogonal); NOT parametrized> as a non-insertable rigid species since it has no bonds\n",
      "Using the following executables for Cassandra:\n",
      "Python: /Users/jenny/miniconda3/envs/cassandra/bin/python\n",
      "library_setup: /Users/jenny/miniconda3/envs/cassandra/bin/library_setup.py\n",
      "Cassandra: /Users/jenny/miniconda3/envs/cassandra/bin/cassandra.exe\n",
      "Generating fragment libraries...\n",
      "Running Cassandra...\n",
      "Using the following executables for Cassandra:\n",
      "Python: /Users/jenny/miniconda3/envs/cassandra/bin/python\n",
      "library_setup: /Users/jenny/miniconda3/envs/cassandra/bin/library_setup.py\n",
      "Cassandra: /Users/jenny/miniconda3/envs/cassandra/bin/cassandra.exe\n",
      "Running Cassandra...\n",
      "Treating <Structure 200 atoms; 1 residues; 0 bonds; PBC (orthogonal); NOT parametrized> as a non-insertable rigid species since it has no bonds\n",
      "Using the following executables for Cassandra:\n",
      "Python: /Users/jenny/miniconda3/envs/cassandra/bin/python\n",
      "library_setup: /Users/jenny/miniconda3/envs/cassandra/bin/library_setup.py\n",
      "Cassandra: /Users/jenny/miniconda3/envs/cassandra/bin/cassandra.exe\n",
      "Generating fragment libraries...\n",
      "Running Cassandra...\n",
      "Using the following executables for Cassandra:\n",
      "Python: /Users/jenny/miniconda3/envs/cassandra/bin/python\n",
      "library_setup: /Users/jenny/miniconda3/envs/cassandra/bin/library_setup.py\n",
      "Cassandra: /Users/jenny/miniconda3/envs/cassandra/bin/cassandra.exe\n",
      "Running Cassandra...\n"
     ]
    }
   ],
   "source": [
    "chem_pots = [i*T for i in range(0,10)] \n",
    "temp = 2*T\n",
    "\n",
    "for chem_pot in chem_pots:\n",
    "    run_cassandra_surf(chem_pot,temp)\n",
    "    !rm -f box*xyz  # it won't overwrite the box..."
   ]
  },
  {
   "cell_type": "markdown",
   "metadata": {},
   "source": [
    "## Adsorption isotherm\n",
    "<a id=\"isosurf\"></a>"
   ]
  },
  {
   "cell_type": "code",
   "execution_count": 55,
   "metadata": {},
   "outputs": [
    {
     "name": "stdout",
     "output_type": "stream",
     "text": [
      "# Instantaneous properties\n",
      "# MC_STEP         Energy_Total      Energy_Intra      Energy_Inter          Enthalpy          Pressure            Volume           Nmols_1           Nmols_2      Mass_Density  \n",
      "#                 (kJ/mol)-Ext      (kJ/mol)-Ext      (kJ/mol)-Ext                               (bar)             (A^3)                                              (kg/m^3)  \n"
     ]
    }
   ],
   "source": [
    "# prp file is different when nmols is different\n",
    "!head -3 surfprod_0_241.out.prp"
   ]
  },
  {
   "cell_type": "code",
   "execution_count": 57,
   "metadata": {},
   "outputs": [],
   "source": [
    "# prp file is where the properties live\n",
    "\n",
    "# MC_STEP En_Total En_Intra En_Inter Enthalpy Pressure Volume Nmols_1 Nmols_2 Mass_Density  \n",
    "#     (kJ/mol)-Ext (kJ/mol)-Ext (kJ/mol)-Ext    (bar)  (A^3)  \n",
    "\n",
    "#print(f\"{chem_pot:.0f} {temp:.0f}\")\n",
    "pressures = []\n",
    "nmols = []\n",
    "for chem_pot in chem_pots:\n",
    "    a = np.loadtxt(f\"surfprod_{chem_pot:.0f}_{temp:.0f}.out.prp\")\n",
    "    pressures.append(np.mean(a[:,5]))\n",
    "    nmols.append(np.mean(a[:,8]))"
   ]
  },
  {
   "cell_type": "code",
   "execution_count": 61,
   "metadata": {},
   "outputs": [
    {
     "data": {
      "image/png": "[encoded data removed]",
      "text/plain": [
       "<Figure size 720x432 with 1 Axes>"
      ]
     },
     "metadata": {
      "needs_background": "light"
     },
     "output_type": "display_data"
    }
   ],
   "source": [
    "plt.title(r\"\"\"Adsorption isotherm for LJium\n",
    "at T = 2$\\frac{\\epsilon}{k_{B}}$\"\"\")\n",
    "plt.scatter(pressures,nmols)\n",
    "plt.xlabel(\"Pressure (bar)\")\n",
    "plt.ylabel(\"Number of molecules\")\n",
    "plt.show()\n",
    "# graph below suggests we need to go to higher potential(??)--not quite levelling off"
   ]
  },
  {
   "cell_type": "markdown",
   "metadata": {},
   "source": [
    "this gif was made with OVITO of the highest chemical potential (10xT)\n",
    "![surfprod_1083_241.gif](surfprod_1083_241.gif)"
   ]
  },
  {
   "cell_type": "code",
   "execution_count": null,
   "metadata": {},
   "outputs": [],
   "source": []
  }
 ],
 "metadata": {
  "kernelspec": {
   "display_name": "Python 3",
   "language": "python",
   "name": "python3"
  },
  "language_info": {
   "codemirror_mode": {
    "name": "ipython",
    "version": 3
   },
   "file_extension": ".py",
   "mimetype": "text/x-python",
   "name": "python",
   "nbconvert_exporter": "python",
   "pygments_lexer": "ipython3",
   "version": "3.7.3"
  }
 },
 "nbformat": 4,
 "nbformat_minor": 4
}
