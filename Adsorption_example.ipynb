{
 "cells": [
  {
   "cell_type": "markdown",
   "metadata": {},
   "source": [
    "# Cassandra\n",
    "environment setup\n",
    "\n",
    "- switched to conda mosdef cassandra\n",
    "\n",
    "```\n",
    "conda create -n cassandra -y -c conda-forge -c mosdef -c omnia 'python=3.7' mbuild foyer openbabel py3dmol fresnel freud jupyterlab mosdef_cassandra\n",
    "\n",
    "conda activate cassandra\n",
    "```"
   ]
  },
  {
   "cell_type": "code",
   "execution_count": 3,
   "metadata": {},
   "outputs": [],
   "source": [
    "%%bash\n",
    "\n",
    "# Delete output of previous run\n",
    "rm -rf *.in.* species* *.out* *.inp*"
   ]
  },
  {
   "cell_type": "code",
   "execution_count": null,
   "metadata": {},
   "outputs": [],
   "source": [
    "# Don't run this when testing because it's a bad idea, but also there are way too many warnings :/\n",
    "import warnings\n",
    "\n",
    "warnings.simplefilter(\"ignore\")"
   ]
  },
  {
   "cell_type": "code",
   "execution_count": 84,
   "metadata": {},
   "outputs": [],
   "source": [
    "import mosdef_cassandra as mc\n",
    "import foyer\n",
    "import mbuild as mb\n",
    "import mosdef_cassandra.examples as ex"
   ]
  },
  {
   "cell_type": "code",
   "execution_count": 2,
   "metadata": {},
   "outputs": [
    {
     "name": "stdout",
     "output_type": "stream",
     "text": [
      "Using the following executables for Cassandra:\n",
      "Python: /Users/jenny/miniconda3/envs/cassandra/bin/python\n",
      "library_setup: /Users/jenny/miniconda3/envs/cassandra/bin/library_setup.py\n",
      "Cassandra: /Users/jenny/miniconda3/envs/cassandra/bin/cassandra.exe\n"
     ]
    }
   ],
   "source": [
    "# If this fails, you need to add Cassandra to your path\n",
    "# export PATH=/Users/$(whoami)/Projects/Cassandra_V1.2/bin:${PATH}\n",
    "mc.utils.detect_cassandra_binaries();"
   ]
  },
  {
   "cell_type": "code",
   "execution_count": 3,
   "metadata": {},
   "outputs": [
    {
     "name": "stderr",
     "output_type": "stream",
     "text": [
      "/Users/jenny/miniconda3/envs/cassandra/lib/python3.7/site-packages/mbuild/lattice.py:584: UserWarning: Periodicity of non-rectangular lattices are not valid with default boxes. Only rectangular lattices are valid at this time.\n",
      "  warn('Periodicity of non-rectangular lattices are not valid with '\n"
     ]
    }
   ],
   "source": [
    "lattice = ex.structures.carbon_lattice()\n",
    "#lattice.visualize(color_scheme={\"_CH4\": \"grey\"}).show()"
   ]
  },
  {
   "cell_type": "code",
   "execution_count": 4,
   "metadata": {},
   "outputs": [
    {
     "name": "stderr",
     "output_type": "stream",
     "text": [
      "/Users/jenny/miniconda3/envs/cassandra/lib/python3.7/site-packages/openbabel/__init__.py:14: UserWarning: \"import openbabel\" is deprecated, instead use \"from openbabel import openbabel\"\n",
      "  warnings.warn('\"import openbabel\" is deprecated, instead use \"from openbabel import openbabel\"')\n",
      "/Users/jenny/miniconda3/envs/cassandra/lib/python3.7/site-packages/mbuild/compound.py:2749: UserWarning: No unitcell detected for pybel.Molecule C\t\n",
      "\n",
      "  warn(\"No unitcell detected for pybel.Molecule {}\".format(pybel_mol))\n"
     ]
    }
   ],
   "source": [
    "methane = mb.load(\"C\", smiles=True)\n",
    "#methane.visualize().show()"
   ]
  },
  {
   "cell_type": "code",
   "execution_count": 5,
   "metadata": {},
   "outputs": [
    {
     "name": "stderr",
     "output_type": "stream",
     "text": [
      "/Users/jenny/miniconda3/envs/cassandra/lib/python3.7/site-packages/foyer/forcefield.py:457: UserWarning: Non-atomistic element type detected. Creating custom element for _CH4\n",
      "  'Creating custom element for {}'.format(element))\n",
      "/Users/jenny/miniconda3/envs/cassandra/lib/python3.7/site-packages/foyer/forcefield.py:457: UserWarning: Non-atomistic element type detected. Creating custom element for _CH3\n",
      "  'Creating custom element for {}'.format(element))\n",
      "/Users/jenny/miniconda3/envs/cassandra/lib/python3.7/site-packages/foyer/forcefield.py:457: UserWarning: Non-atomistic element type detected. Creating custom element for _CH2\n",
      "  'Creating custom element for {}'.format(element))\n",
      "/Users/jenny/miniconda3/envs/cassandra/lib/python3.7/site-packages/foyer/forcefield.py:457: UserWarning: Non-atomistic element type detected. Creating custom element for _HC\n",
      "  'Creating custom element for {}'.format(element))\n",
      "/Users/jenny/miniconda3/envs/cassandra/lib/python3.7/site-packages/foyer/forcefield.py:433: UserWarning: No force field version number found in force field XML file.\n",
      "  'No force field version number found in force field XML file.'\n",
      "/Users/jenny/miniconda3/envs/cassandra/lib/python3.7/site-packages/foyer/forcefield.py:445: UserWarning: No force field name found in force field XML file.\n",
      "  'No force field name found in force field XML file.'\n",
      "/Users/jenny/miniconda3/envs/cassandra/lib/python3.7/site-packages/foyer/validator.py:132: ValidationWarning: You have empty smart definition(s)\n",
      "  warn(\"You have empty smart definition(s)\", ValidationWarning)\n",
      "/Users/jenny/miniconda3/envs/cassandra/lib/python3.7/site-packages/mbuild/compound.py:2443: UserWarning: Guessing that \"<_CH4 pos=( 0.0000, 0.0000, 0.0000), 0 bonds, id: 4565407184>\" is element: \"EP\"\n",
      "  atom, element))\n",
      "/Users/jenny/miniconda3/envs/cassandra/lib/python3.7/site-packages/parmed/openmm/topsystem.py:238: OpenMMWarning: Adding what seems to be Urey-Bradley terms before Angles. This is unexpected, but the parameters will all be present in one form or another.\n",
      "  'all be present in one form or another.', OpenMMWarning)\n",
      "/Users/jenny/miniconda3/envs/cassandra/lib/python3.7/site-packages/foyer/forcefield.py:267: UserWarning: Parameters have not been assigned to all impropers. Total system impropers: 4, Parameterized impropers: 0. Note that if your system contains torsions of Ryckaert-Bellemans functional form, all of these torsions are processed as propers\n",
      "  warnings.warn(msg)\n"
     ]
    },
    {
     "name": "stdout",
     "output_type": "stream",
     "text": [
      "Treating <Structure 320 atoms; 1 residues; 0 bonds; PBC (orthogonal); NOT parametrized> as a non-insertable rigid species since it has no bonds\n",
      "Using the following executables for Cassandra:\n",
      "Python: /Users/jenny/miniconda3/envs/cassandra/bin/python\n",
      "library_setup: /Users/jenny/miniconda3/envs/cassandra/bin/library_setup.py\n",
      "Cassandra: /Users/jenny/miniconda3/envs/cassandra/bin/cassandra.exe\n",
      "Generating fragment libraries...\n"
     ]
    },
    {
     "name": "stderr",
     "output_type": "stream",
     "text": [
      "/Users/jenny/miniconda3/envs/cassandra/lib/python3.7/site-packages/mbuild/formats/cassandramcf.py:178: UserWarning: No bonds found. Cassandra will interpet this as a rigid species\n",
      "  warnings.warn(\"No bonds found. Cassandra will interpet \"\n",
      "/Users/jenny/miniconda3/envs/cassandra/lib/python3.7/site-packages/mbuild/formats/cassandramcf.py:564: UserWarning: More than two atoms present but no fragments identified.\n",
      "  warnings.warn('More than two atoms present but '\n",
      "/Users/jenny/miniconda3/envs/cassandra/lib/python3.7/site-packages/mbuild/formats/cassandramcf.py:303: UserWarning: Warning, type name opls_138 will be shortened to six characters as ls_138. Please confirm your final MCF.\n",
      "  \"MCF.\".format(itype,itype[-6:]))\n",
      "/Users/jenny/miniconda3/envs/cassandra/lib/python3.7/site-packages/mbuild/formats/cassandramcf.py:303: UserWarning: Warning, type name opls_140 will be shortened to six characters as ls_140. Please confirm your final MCF.\n",
      "  \"MCF.\".format(itype,itype[-6:]))\n",
      "/Users/jenny/miniconda3/envs/cassandra/lib/python3.7/site-packages/mbuild/compound.py:2443: UserWarning: Guessing that \"<_CH4 pos=( 0.0000, 0.0000, 0.0000), 0 bonds, id: 4955284816>\" is element: \"EP\"\n",
      "  atom, element))\n"
     ]
    },
    {
     "name": "stdout",
     "output_type": "stream",
     "text": [
      "Running Cassandra...\n"
     ]
    }
   ],
   "source": [
    "# Load forcefields\n",
    "trappe = foyer.forcefields.load_TRAPPE_UA()\n",
    "oplsaa = foyer.forcefields.load_OPLSAA()\n",
    "\n",
    "# Use foyer to apply forcefields\n",
    "typed_lattice = trappe.apply(lattice)\n",
    "typed_methane = oplsaa.apply(methane)\n",
    "\n",
    "# Create box and species list\n",
    "box_list = [lattice]\n",
    "species_list = [typed_lattice, typed_methane]\n",
    "\n",
    "# Since we have an occupied box we need to specify\n",
    "# the number of each species present in the intial config\n",
    "mols_in_boxes = [[1, 0]]\n",
    "\n",
    "system = mc.System(box_list, species_list, mols_in_boxes=mols_in_boxes)\n",
    "moves = mc.Moves(\"gcmc\", species_list)\n",
    "\n",
    "custom_args = {\n",
    "    \"chemical_potentials\": [\"none\", -30.0],\n",
    "    \"rcut_min\": 0.5,\n",
    "    \"vdw_cutoff\": 14.0,\n",
    "    \"charge_cutoff\": 14.0,\n",
    "    \"coord_freq\": 100,\n",
    "    \"prop_freq\": 10,\n",
    "}\n",
    "\n",
    "mc.run(system, moves, \"equilibration\", 10000, 300.0, **custom_args)"
   ]
  },
  {
   "cell_type": "code",
   "execution_count": 9,
   "metadata": {},
   "outputs": [],
   "source": [
    "%%bash\n",
    "\n",
    "# move the output\n",
    "mkdir adsorption\n",
    "mv *.in.* species* *.out* *.inp* adsorption"
   ]
  },
  {
   "cell_type": "code",
   "execution_count": 2,
   "metadata": {},
   "outputs": [],
   "source": [
    "import ex_render_cassandra as erc"
   ]
  },
  {
   "cell_type": "code",
   "execution_count": 3,
   "metadata": {},
   "outputs": [],
   "source": [
    "xyzfile = \"adsorption/gcmc.out.xyz\"\n",
    "boxfile = \"adsorption/gcmc.out.H\"\n",
    "\n",
    "traj = erc.make_traj(xyzfile, boxfile)"
   ]
  },
  {
   "cell_type": "code",
   "execution_count": 5,
   "metadata": {},
   "outputs": [],
   "source": [
    "erc.display_movie(erc.render_sphere_frame, traj, \"traj.gif\")"
   ]
  },
  {
   "cell_type": "markdown",
   "metadata": {},
   "source": [
    "The above functions saves a gif of the rendered trajectory-- this is the gif displayed in markdown\n",
    "\n",
    "![](traj.gif)\n",
    "\n",
    "It can also be displayed inline as an IPython widget if the gif name is omitted\n",
    "\n",
    "`erc.display_movie(erc.render_sphere_frame, traj)`"
   ]
  },
  {
   "cell_type": "code",
   "execution_count": 6,
   "metadata": {},
   "outputs": [
    {
     "data": {
      "image/png": "\n",
      "text/plain": [
       "<IPython.core.display.Image object>"
      ]
     },
     "metadata": {},
     "output_type": "display_data"
    }
   ],
   "source": [
    "erc.display_movie(erc.render_sphere_frame, traj)"
   ]
  },
  {
   "cell_type": "markdown",
   "metadata": {},
   "source": [
    "Notes\n",
    "- gcmc.out.H - box\n",
    "- gcmc.out.xyz - particle coordinates\n",
    "- species#.mcf - connectivity\n",
    "- Cassandra treats no bonds as fixed - check the inp file (max distances for the frozen species should be 0)\n",
    "- this file `species2/frag1/frag1.dat` contains the fragment configurations \n",
    "- --changing the temp (300) to natoms (5 for methane) makes it viewable by vmd (watch the fragment wiggle around)\n",
    "- chk - restart (mc.restart)\n",
    "- log - energies, etc\n",
    "- properties - thermo properties\n",
    "- cassandra uses fixed bonds -- make sure ring systems have correct bonds!"
   ]
  },
  {
   "cell_type": "code",
   "execution_count": null,
   "metadata": {},
   "outputs": [],
   "source": []
  }
 ],
 "metadata": {
  "kernelspec": {
   "display_name": "Python 3",
   "language": "python",
   "name": "python3"
  },
  "language_info": {
   "codemirror_mode": {
    "name": "ipython",
    "version": 3
   },
   "file_extension": ".py",
   "mimetype": "text/x-python",
   "name": "python",
   "nbconvert_exporter": "python",
   "pygments_lexer": "ipython3",
   "version": "3.7.6"
  }
 },
 "nbformat": 4,
 "nbformat_minor": 4
}
