{
 "cells": [
  {
   "cell_type": "markdown",
   "metadata": {},
   "source": [
    "# Cassandra\n",
    "environment setup\n",
    "\n",
    "*should be able to remove mosdef and omnia channels sooooon*\n",
    "\n",
    "`conda create -n cassandra -y -c conda-forge -c mosdef -c omnia "python=3.7" mbuild foyer openbabel py3dmol pytest`\n",
    "\n",
    "`conda activate cassandra`\n",
    "\n",
    "`python -m pip install ovito jupyterlab`\n",
    "\n",
    "`git clone git@github.com:jennyfothergill/mosdef_cassandra.git`\n",
    "\n",
    "`cd mosdef_cassandra`\n",
    "\n",
    "`python -m pip install .`"
   ]
  },
  {
   "cell_type": "code",
   "execution_count": null,
   "metadata": {},
   "outputs": [],
   "source": [
    "# Add Cassandra to your path\n",
    "%%bash\n",
    "export PATH=/Users/$(whoami)/Projects/Cassandra_V1.2/bin:${PATH}"
   ]
  },
  {
   "cell_type": "code",
   "execution_count": null,
   "metadata": {},
   "outputs": [],
   "source": [
    "# Delete output of previous run\n",
    "%%bash\n",
    "rm *.in.* species* *.out* *.inp*"
   ]
  },
  {
   "cell_type": "code",
   "execution_count": null,
   "metadata": {},
   "outputs": [],
   "source": [
    "# Probably a bad idea, but also there are way too many warnings :/\n",
    "import warnings\n",
    "\n",
    "warnings.simplefilter(\"ignore\")"
   ]
  },
  {
   "cell_type": "code",
   "execution_count": null,
   "metadata": {},
   "outputs": [],
   "source": [
    "import mosdef_cassandra as mc\n",
    "import foyer\n",
    "import mbuild as mb\n",
    "import mosdef_cassandra.examples as ex"
   ]
  },
  {
   "cell_type": "code",
   "execution_count": null,
   "metadata": {},
   "outputs": [],
   "source": [
    "# If this fails, you need to add Cassandra to your path\n",
    "mc.utils.detect_cassandra_binaries();"
   ]
  },
  {
   "cell_type": "code",
   "execution_count": null,
   "metadata": {},
   "outputs": [],
   "source": [
    "lattice = ex.structures.carbon_lattice()\n",
    "#lattice.visualize(color_scheme={\"_CH4\": \"grey\"}).show()"
   ]
  },
  {
   "cell_type": "code",
   "execution_count": null,
   "metadata": {},
   "outputs": [],
   "source": [
    "methane = mb.load(\"C\", smiles=True)\n",
    "#methane.visualize().show()"
   ]
  },
  {
   "cell_type": "code",
   "execution_count": null,
   "metadata": {},
   "outputs": [],
   "source": [
    "# Load forcefields\n",
    "trappe = foyer.forcefields.load_TRAPPE_UA()\n",
    "oplsaa = foyer.forcefields.load_OPLSAA()\n",
    "\n",
    "# Use foyer to apply forcefields\n",
    "typed_lattice = trappe.apply(lattice)\n",
    "typed_methane = oplsaa.apply(methane)\n",
    "\n",
    "# Create box and species list\n",
    "box_list = [lattice]\n",
    "species_list = [typed_lattice, typed_methane]\n",
    "\n",
    "# Since we have an occupied box we need to specify\n",
    "# the number of each species present in the intial config\n",
    "mols_in_boxes = [[1, 0]]\n",
    "\n",
    "system = mc.System(box_list, species_list, mols_in_boxes=mols_in_boxes)\n",
    "moves = mc.Moves(\"gcmc\", species_list)\n",
    "\n",
    "custom_args = {\n",
    "    \"chemical_potentials\": [\"none\", -30.0],\n",
    "    \"rcut_min\": 0.5,\n",
    "    \"vdw_cutoff\": 14.0,\n",
    "    \"charge_cutoff\": 14.0,\n",
    "    \"coord_freq\": 100,\n",
    "    \"prop_freq\": 10,\n",
    "}\n",
    "\n",
    "mc.run(system, moves, \"equilibration\", 10000, 300.0, **custom_args)"
   ]
  },
  {
   "cell_type": "code",
   "execution_count": null,
   "metadata": {},
   "outputs": [],
   "source": [
    "!head gcmc.out.xyz"
   ]
  },
  {
   "cell_type": "code",
   "execution_count": null,
   "metadata": {},
   "outputs": [],
   "source": [
    "import numpy as np\n",
    "import fresnel\n",
    "import io\n",
    "import PIL\n",
    "import sys\n",
    "import IPython"
   ]
  },
  {
   "cell_type": "code",
   "execution_count": null,
   "metadata": {},
   "outputs": [],
   "source": [
    "file = \"gcmc.out.xyz\"\n",
    "\n",
    "d_xyz = np.dtype([(\"atom\", np.unicode_, 8), (\"xyz\", \"d\", 3)])\n",
    "\n",
    "with open(file, \"r\") as f:\n",
    "    lines = f.readlines()\n",
    "\n",
    "traj = []\n",
    "step = 0\n",
    "while True:\n",
    "    try:\n",
    "        n_atoms = int(lines[step])\n",
    "    except IndexError:\n",
    "        break\n",
    "    # print(lines[step+1]) # this should print the step\n",
    "    arr = lines[step+2:step+2+n_atoms]\n",
    "    frame = np.genfromtxt(arr, dtype = d_xyz)\n",
    "    atoms = np.array([i[\"atom\"] for i in frame],dtype=\"U8\")\n",
    "    xyz = np.stack([i[\"xyz\"] for i in frame])\n",
    "    traj.append((atoms,xyz))\n",
    "    step += 2+n_atoms"
   ]
  },
  {
   "cell_type": "code",
   "execution_count": null,
   "metadata": {},
   "outputs": [],
   "source": [
    "#!head gcmc.out.H\n",
    "height = 29.840000000000000"
   ]
  },
  {
   "cell_type": "code",
   "execution_count": null,
   "metadata": {},
   "outputs": [],
   "source": [
    "def render_sphere_frame(frame, height=None):\n",
    "\n",
    "    if height is None:\n",
    "        if hasattr(frame, 'configuration'):\n",
    "            Ly = frame.configuration.box[1]\n",
    "            height = Ly * math.sqrt(3)\n",
    "        else:\n",
    "            Ly = frame.box.Ly;\n",
    "            height = Ly * math.sqrt(3)\n",
    "\n",
    "    scene = fresnel.Scene(device)\n",
    "    scene.lights = fresnel.light.cloudy();\n",
    "    g = fresnel.geometry.Sphere(scene, position=frame[1], radius=np.ones(len(frame[0]))*0.5)\n",
    "    g.material = fresnel.material.Material(solid=0.0, color=blue, primitive_color_mix=1.0, specular=1.0, roughness=0.2)\n",
    "    g.outline_width = 0.07\n",
    "    scene.camera = fresnel.camera.orthographic(position=(height, height, height), look_at=(0,0,0), up=(0,1,0), height=height)\n",
    "\n",
    "    g.color[frame[0] == \"C\"] = blue;\n",
    "    g.color[frame[0] == \"_C\"] = blue;\n",
    "    g.color[frame[0] == \"H\"] = orange;\n",
    "\n",
    "    scene.background_color = (1,1,1)\n",
    "\n",
    "    return path_tracer.sample(scene, samples=64, light_samples=20)"
   ]
  },
  {
   "cell_type": "code",
   "execution_count": null,
   "metadata": {},
   "outputs": [],
   "source": [
    "device = fresnel.Device(mode='cpu');\n",
    "preview_tracer = fresnel.tracer.Preview(device, 300, 300)\n",
    "path_tracer = fresnel.tracer.Path(device, 300, 300)\n",
    "\n",
    "blue = fresnel.color.linear([0.25,0.5,1])*0.9;\n",
    "orange = fresnel.color.linear([1.0,0.714,0.169])*0.9\n",
    "\n",
    "def display_movie(frame_gen, traj, gif = None):\n",
    "    a = frame_gen(traj[0], height = 30);\n",
    "\n",
    "    if tuple(map(int, (PIL.__version__.split(\".\")))) < (3,4,0):\n",
    "        print(\"Warning! Movie display output requires pillow 3.4.0 or newer.\")\n",
    "        print(\"Older versions of pillow may only display the first frame.\")\n",
    "\n",
    "    im0 = PIL.Image.fromarray(a[:,:, 0:3], mode='RGB').convert(\"P\", palette=PIL.Image.ADAPTIVE);\n",
    "    ims = [];\n",
    "    for f in traj[1:]:\n",
    "        a = frame_gen(f, height = 30);\n",
    "        im = PIL.Image.fromarray(a[:,:, 0:3], mode='RGB')\n",
    "        im_p = im.quantize(palette=im0);\n",
    "        ims.append(im_p)\n",
    "\n",
    "    if gif:\n",
    "        im0.save(gif, 'gif', save_all=True, append_images=ims, duration=1000, loop=0)\n",
    "        return\n",
    "    if (sys.version_info[0] >= 3):\n",
    "        size = len(io.BytesIO().getbuffer())/1024;\n",
    "        if (size > 2000):\n",
    "            print(\"Size:\", size, \"KiB\")\n",
    "\n",
    "    return IPython.display.display(IPython.display.Image(data=io.BytesIO().getvalue()))"
   ]
  },
  {
   "cell_type": "code",
   "execution_count": null,
   "metadata": {},
   "outputs": [],
   "source": [
    "#render_sphere_frame(traj[2], height)\n",
    "\n",
    "display_movie(render_sphere_frame, traj, \"traj.gif\")"
   ]
  },
  {
   "cell_type": "code",
   "execution_count": null,
   "metadata": {},
   "outputs": [],
   "source": [
    "# gcmc.out.H - box\n",
    "# gcmc.out.xyz - particle coordinates\n",
    "# species#.mcf - connectivity\n",
    "# Cassandra treats no bonds as fixed - check the inp file (max distances for the frozen species should be 0)\n",
    "# this file species2/frag1/frag1.dat contains the fragment configurations \n",
    "# --changing the temp (300) to natoms (5 for methane) makes it viewable by vmd (watch the fragment wiggle around)\n",
    "# chk - restart (mc.restart)\n",
    "# log - energies, etc\n",
    "# properties - thermo properties\n",
    "# cassandra uses fixed bonds -- make sure ring systems have correct bonds!\n",
    "!ls"
   ]
  },
  {
   "cell_type": "code",
   "execution_count": null,
   "metadata": {},
   "outputs": [],
   "source": []
  }
 ],
 "metadata": {
  "kernelspec": {
   "display_name": "Python 3",
   "language": "python",
   "name": "python3"
  },
  "language_info": {
   "codemirror_mode": {
    "name": "ipython",
    "version": 3
   },
   "file_extension": ".py",
   "mimetype": "text/x-python",
   "name": "python",
   "nbconvert_exporter": "python",
   "pygments_lexer": "ipython3",
   "version": "3.7.6"
  }
 },
 "nbformat": 4,
 "nbformat_minor": 4
}
