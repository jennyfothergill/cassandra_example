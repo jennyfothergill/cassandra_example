{
 "cells": [
  {
   "cell_type": "markdown",
   "metadata": {},
   "source": [
    "# Cassandra\n",
    "environment setup\n",
    "\n",
    "*should be able to remove mosdef and omnia channels sooooon*\n",
    "\n",
    "`conda create -n cassandra -y -c conda-forge -c mosdef -c omnia “python=3.7” mbuild foyer openbabel py3dmol pytest`\n",
    "\n",
    "`conda activate cassandra`\n",
    "\n",
    "`python -m pip install ovito jupyterlab`\n",
    "\n",
    "`git clone git@github.com:jennyfothergill/mosdef_cassandra.git`\n",
    "\n",
    "`cd mosdef_cassandra`\n",
    "\n",
    "`python -m pip install .`"
   ]
  },
  {
   "cell_type": "code",
   "execution_count": null,
   "metadata": {},
   "outputs": [],
   "source": [
    "# Add Cassandra to your path\n",
    "%%bash\n",
    "export PATH=/Users/jenny/Projects/Cassandra_V1.2/bin:${PATH}\n",
    "echo $PATH"
   ]
  },
  {
   "cell_type": "code",
   "execution_count": 1,
   "metadata": {},
   "outputs": [],
   "source": [
    "import mosdef_cassandra as mc\n",
    "import foyer\n",
    "import mbuild as mb\n",
    "import mosdef_cassandra.examples as ex"
   ]
  },
  {
   "cell_type": "code",
   "execution_count": 2,
   "metadata": {},
   "outputs": [
    {
     "name": "stdout",
     "output_type": "stream",
     "text": [
      "Using the following executables for Cassandra:\n",
      "Python: /usr/bin/python2.7\n",
      "library_setup: /Users/jenny/Projects/Cassandra_V1.2/bin/library_setup.py\n",
      "Cassandra: /Users/jenny/Projects/Cassandra_V1.2/bin/cassandra_gfortran.exe\n"
     ]
    }
   ],
   "source": [
    "# If this fails, you need to add Cassandra to your path\n",
    "mc.utils.detect_cassandra_binaries();"
   ]
  },
  {
   "cell_type": "code",
   "execution_count": 3,
   "metadata": {},
   "outputs": [
    {
     "name": "stderr",
     "output_type": "stream",
     "text": [
      "/Users/jenny/miniconda3/envs/cassandra/lib/python3.7/site-packages/mbuild/lattice.py:584: UserWarning: Periodicity of non-rectangular lattices are not valid with default boxes. Only rectangular lattices are valid at this time.\n",
      "  warn('Periodicity of non-rectangular lattices are not valid with '\n"
     ]
    }
   ],
   "source": [
    "lattice = ex.structures.carbon_lattice()\n",
    "#lattice.visualize(color_scheme={\"_CH4\": \"grey\"}).show()"
   ]
  },
  {
   "cell_type": "code",
   "execution_count": 4,
   "metadata": {},
   "outputs": [
    {
     "name": "stderr",
     "output_type": "stream",
     "text": [
      "/Users/jenny/miniconda3/envs/cassandra/lib/python3.7/site-packages/openbabel/__init__.py:14: UserWarning: \"import openbabel\" is deprecated, instead use \"from openbabel import openbabel\"\n",
      "  warnings.warn('\"import openbabel\" is deprecated, instead use \"from openbabel import openbabel\"')\n",
      "/Users/jenny/miniconda3/envs/cassandra/lib/python3.7/site-packages/mbuild/compound.py:2749: UserWarning: No unitcell detected for pybel.Molecule C\t\n",
      "\n",
      "  warn(\"No unitcell detected for pybel.Molecule {}\".format(pybel_mol))\n"
     ]
    }
   ],
   "source": [
    "methane = mb.load(\"C\", smiles=True)\n",
    "#methane.visualize().show()"
   ]
  },
  {
   "cell_type": "code",
   "execution_count": 5,
   "metadata": {},
   "outputs": [
    {
     "name": "stderr",
     "output_type": "stream",
     "text": [
      "/Users/jenny/miniconda3/envs/cassandra/lib/python3.7/site-packages/foyer/forcefield.py:396: UserWarning: Non-atomistic element type detected. Creating custom element for _CH4\n",
      "  'Creating custom element for {}'.format(element))\n",
      "/Users/jenny/miniconda3/envs/cassandra/lib/python3.7/site-packages/foyer/forcefield.py:396: UserWarning: Non-atomistic element type detected. Creating custom element for _CH3\n",
      "  'Creating custom element for {}'.format(element))\n",
      "/Users/jenny/miniconda3/envs/cassandra/lib/python3.7/site-packages/foyer/forcefield.py:396: UserWarning: Non-atomistic element type detected. Creating custom element for _CH2\n",
      "  'Creating custom element for {}'.format(element))\n",
      "/Users/jenny/miniconda3/envs/cassandra/lib/python3.7/site-packages/foyer/forcefield.py:396: UserWarning: Non-atomistic element type detected. Creating custom element for _HC\n",
      "  'Creating custom element for {}'.format(element))\n",
      "/Users/jenny/miniconda3/envs/cassandra/lib/python3.7/site-packages/foyer/validator.py:132: ValidationWarning: You have empty smart definition(s)\n",
      "  warn(\"You have empty smart definition(s)\", ValidationWarning)\n",
      "/Users/jenny/miniconda3/envs/cassandra/lib/python3.7/site-packages/mbuild/compound.py:2443: UserWarning: Guessing that \"<_CH4 pos=( 0.0000, 0.0000, 0.0000), 0 bonds, id: 4538251920>\" is element: \"EP\"\n",
      "  atom, element))\n",
      "/Users/jenny/miniconda3/envs/cassandra/lib/python3.7/site-packages/parmed/openmm/topsystem.py:238: OpenMMWarning: Adding what seems to be Urey-Bradley terms before Angles. This is unexpected, but the parameters will all be present in one form or another.\n",
      "  'all be present in one form or another.', OpenMMWarning)\n",
      "/Users/jenny/miniconda3/envs/cassandra/lib/python3.7/site-packages/foyer/forcefield.py:248: UserWarning: Parameters have not been assigned to all impropers. Total system impropers: 4, Parameterized impropers: 0. Note that if your system contains torsions of Ryckaert-Bellemans functional form, all of these torsions are processed as propers\n",
      "  warnings.warn(msg)\n"
     ]
    },
    {
     "name": "stdout",
     "output_type": "stream",
     "text": [
      "Treating <Structure 320 atoms; 1 residues; 0 bonds; PBC (orthogonal); NOT parametrized> as a non-insertable rigid species since it has no bonds\n",
      "Using the following executables for Cassandra:\n",
      "Python: /usr/bin/python2.7\n",
      "library_setup: /Users/jenny/Projects/Cassandra_V1.2/bin/library_setup.py\n",
      "Cassandra: /Users/jenny/Projects/Cassandra_V1.2/bin/cassandra_gfortran.exe\n",
      "Generating fragment libraries...\n"
     ]
    },
    {
     "name": "stderr",
     "output_type": "stream",
     "text": [
      "/Users/jenny/miniconda3/envs/cassandra/lib/python3.7/site-packages/mbuild/formats/cassandramcf.py:178: UserWarning: No bonds found. Cassandra will interpet this as a rigid species\n",
      "  warnings.warn(\"No bonds found. Cassandra will interpet \"\n",
      "/Users/jenny/miniconda3/envs/cassandra/lib/python3.7/site-packages/mbuild/formats/cassandramcf.py:564: UserWarning: More than two atoms present but no fragments identified.\n",
      "  warnings.warn('More than two atoms present but '\n",
      "/Users/jenny/miniconda3/envs/cassandra/lib/python3.7/site-packages/mbuild/formats/cassandramcf.py:303: UserWarning: Warning, type name opls_138 will be shortened to six characters as ls_138. Please confirm your final MCF.\n",
      "  \"MCF.\".format(itype,itype[-6:]))\n",
      "/Users/jenny/miniconda3/envs/cassandra/lib/python3.7/site-packages/mbuild/formats/cassandramcf.py:303: UserWarning: Warning, type name opls_140 will be shortened to six characters as ls_140. Please confirm your final MCF.\n",
      "  \"MCF.\".format(itype,itype[-6:]))\n",
      "/Users/jenny/miniconda3/envs/cassandra/lib/python3.7/site-packages/mbuild/compound.py:2443: UserWarning: Guessing that \"<_CH4 pos=( 0.0000, 0.0000, 0.0000), 0 bonds, id: 4957855504>\" is element: \"EP\"\n",
      "  atom, element))\n"
     ]
    },
    {
     "name": "stdout",
     "output_type": "stream",
     "text": [
      "Running Cassandra...\n"
     ]
    }
   ],
   "source": [
    "# Load forcefields\n",
    "trappe = foyer.forcefields.load_TRAPPE_UA()\n",
    "oplsaa = foyer.forcefields.load_OPLSAA()\n",
    "\n",
    "# Use foyer to apply forcefields\n",
    "typed_lattice = trappe.apply(lattice)\n",
    "typed_methane = oplsaa.apply(methane)\n",
    "\n",
    "# Create box and species list\n",
    "box_list = [lattice]\n",
    "species_list = [typed_lattice, typed_methane]\n",
    "\n",
    "# Since we have an occupied box we need to specify\n",
    "# the number of each species present in the intial config\n",
    "mols_in_boxes = [[1, 0]]\n",
    "\n",
    "system = mc.System(box_list, species_list, mols_in_boxes=mols_in_boxes)\n",
    "moves = mc.Moves(\"gcmc\", species_list)\n",
    "\n",
    "custom_args = {\n",
    "    \"chemical_potentials\": [\"none\", -30.0],\n",
    "    \"rcut_min\": 0.5,\n",
    "    \"vdw_cutoff\": 14.0,\n",
    "    \"charge_cutoff\": 14.0,\n",
    "    \"coord_freq\": 100,\n",
    "    \"prop_freq\": 10,\n",
    "}\n",
    "\n",
    "mc.run(system, moves, 300.0, \"equilibration\", 10000, **custom_args)"
   ]
  },
  {
   "cell_type": "code",
   "execution_count": 12,
   "metadata": {},
   "outputs": [
    {
     "name": "stdout",
     "output_type": "stream",
     "text": [
      "Overwriting ovito_render.py\n"
     ]
    }
   ],
   "source": [
    "%%file ovito_render.py\n",
    "\n",
    "def ovito_render():\n",
    "    \"Render images using OVITO\"\n",
    "    import ovito\n",
    "    from ovito.io import import_file\n",
    "    from ovito.vis import Viewport, RenderSettings, TachyonRenderer\n",
    "    from ovito.modifiers import ColorCodingModifier\n",
    "    from ovito.modifiers import PolyhedralTemplateMatchingModifier\n",
    "    \n",
    "    pipeline = import_file(\"gcmc.out.xyz\")\n",
    "    #ptm_modifier = PolyhedralTemplateMatchingModifier(\n",
    "    #    color_by_type=True,\n",
    "    #    rmsd_cutoff=0.3,\n",
    "    #)\n",
    "    #for structure_type in ['BCC', 'CUBIC_DIAMOND', 'FCC', 'GRAPHENE',\n",
    "    #                       'HCP', 'HEX_DIAMOND', 'ICO', 'OTHER', 'SC']:\n",
    "    #    structure_type = getattr(PolyhedralTemplateMatchingModifier.Type, structure_type)\n",
    "    #    ptm_modifier.structures[structure_type].enabled = True\n",
    "    #pipeline.modifiers.append(ptm_modifier)\n",
    "    data_collection = pipeline.compute()\n",
    "    pipeline.add_to_scene()\n",
    "    renderer = TachyonRenderer(antialiasing_samples=32,)\n",
    "    vp = Viewport(type=Viewport.Type.Perspective, camera_dir=(2, 1, -1))\n",
    "    vp.zoom_all()\n",
    "    vp.camera_pos = np.asarray(vp.camera_pos) * np.array([0.8, 0.8, 0.75])\n",
    "    vp.render_image(\n",
    "        filename='sample.png',\n",
    "        size=(1000, 750),\n",
    "        frame=pipeline.source.num_frames-1,\n",
    "        alpha=True,\n",
    "        renderer=renderer,\n",
    "    )\n",
    "    every_nth = pipeline.source.num_frames // 20\n",
    "    video = vp.render_anim(\n",
    "        filename='sample.gif',\n",
    "        size=(480, 320),\n",
    "        fps=5,\n",
    "        renderer=renderer,\n",
    "        every_nth=every_nth,\n",
    "    )\n",
    "    image = vp.render_image(size=(800, 600), filename='img.png', frame=pipeline.source.num_frames)\n",
    "    pipeline.remove_from_scene()\n",
    "    \n",
    "\n",
    "if __name__ == \"__main__\":\n",
    "    ovito_render()"
   ]
  },
  {
   "cell_type": "code",
   "execution_count": 13,
   "metadata": {},
   "outputs": [
    {
     "name": "stdout",
     "output_type": "stream",
     "text": [
      "objc[4018]: Class QMacAutoReleasePoolTracker is implemented in both /Users/jenny/miniconda3/envs/cassandra/lib/python3.7/site-packages/PySide2/Qt/lib/QtCore.framework/Versions/5/QtCore (0x111f43030) and /Users/jenny/miniconda3/envs/cassandra/lib/libQt5Core.5.12.5.dylib (0x11bced560). One of the two will be used. Which one is undefined.\n",
      "objc[4018]: Class QT_ROOT_LEVEL_POOL__THESE_OBJECTS_WILL_BE_RELEASED_WHEN_QAPP_GOES_OUT_OF_SCOPE is implemented in both /Users/jenny/miniconda3/envs/cassandra/lib/python3.7/site-packages/PySide2/Qt/lib/QtCore.framework/Versions/5/QtCore (0x111f430a8) and /Users/jenny/miniconda3/envs/cassandra/lib/libQt5Core.5.12.5.dylib (0x11bced5d8). One of the two will be used. Which one is undefined.\n",
      "objc[4018]: Class KeyValueObserver is implemented in both /Users/jenny/miniconda3/envs/cassandra/lib/python3.7/site-packages/PySide2/Qt/lib/QtCore.framework/Versions/5/QtCore (0x111f430d0) and /Users/jenny/miniconda3/envs/cassandra/lib/libQt5Core.5.12.5.dylib (0x11bced600). One of the two will be used. Which one is undefined.\n",
      "objc[4018]: Class RunLoopModeTracker is implemented in both /Users/jenny/miniconda3/envs/cassandra/lib/python3.7/site-packages/PySide2/Qt/lib/QtCore.framework/Versions/5/QtCore (0x111f43120) and /Users/jenny/miniconda3/envs/cassandra/lib/libQt5Core.5.12.5.dylib (0x11bced650). One of the two will be used. Which one is undefined.\n",
      "QObject::moveToThread: Current thread (0x7fb66917ffe0) is not the object's thread (0x7fb6691a1610).\n",
      "Cannot move to target thread (0x7fb66917ffe0)\n",
      "\n",
      "You might be loading two sets of Qt binaries into the same process. Check that all plugins are compiled against the right Qt binaries. Export DYLD_PRINT_LIBRARIES=1 and check that only one set of binaries are being loaded.\n",
      "qt.qpa.plugin: Could not load the Qt platform plugin \"cocoa\" in \"\" even though it was found.\n",
      "This application failed to start because no Qt platform plugin could be initialized. Reinstalling the application may fix this problem.\n",
      "\n",
      "Available platform plugins are: cocoa, minimal, offscreen, webgl.\n",
      "\n"
     ]
    }
   ],
   "source": [
    "!python ovito_render.py"
   ]
  },
  {
   "cell_type": "code",
   "execution_count": 11,
   "metadata": {},
   "outputs": [
    {
     "name": "stdout",
     "output_type": "stream",
     "text": [
      "Adsorption_example.ipynb\n",
      "README.md\n",
      "box1.in.xyz\n",
      "ex_render.py\n",
      "gcmc.inp\n",
      "gcmc.out.H\n",
      "gcmc.out.chk\n",
      "gcmc.out.log\n",
      "gcmc.out.prp\n",
      "gcmc.out.xyz\n",
      "mosdef_cassandra_2020-03-03_14:19:14.764804.log\n",
      "ovito_render.py\n",
      "\u001b[36mspecies1\u001b[m\u001b[m\n",
      "species1.mcf\n",
      "species1.pdb\n",
      "\u001b[36mspecies2\u001b[m\u001b[m\n",
      "species2.mcf\n",
      "species2.pdb\n"
     ]
    }
   ],
   "source": [
    "!ls"
   ]
  },
  {
   "cell_type": "code",
   "execution_count": 10,
   "metadata": {},
   "outputs": [],
   "source": [
    "# mc.print_valid_kwargs()"
   ]
  },
  {
   "cell_type": "code",
   "execution_count": 8,
   "metadata": {},
   "outputs": [
    {
     "name": "stdout",
     "output_type": "stream",
     "text": [
      "Adsorption_example.ipynb\n",
      "README.md\n",
      "box1.in.xyz\n",
      "ex_render.py\n",
      "gcmc.inp\n",
      "gcmc.out.H\n",
      "gcmc.out.chk\n",
      "gcmc.out.log\n",
      "gcmc.out.prp\n",
      "gcmc.out.xyz\n",
      "mosdef_cassandra_2020-03-03_14:19:14.764804.log\n",
      "\u001b[36mspecies1\u001b[m\u001b[m\n",
      "species1.mcf\n",
      "species1.pdb\n",
      "\u001b[36mspecies2\u001b[m\u001b[m\n",
      "species2.mcf\n",
      "species2.pdb\n"
     ]
    }
   ],
   "source": [
    "# gcmc.out.H - box\n",
    "# gcmc.out.xyz - particle coordinates\n",
    "# species#.mcf - connectivity\n",
    "# Cassandra treats no bonds as fixed - check the inp file (max distances for the frozen species should be 0)\n",
    "# this file species2/frag1/frag1.dat contains the fragment configurations \n",
    "# --changing the temp (300) to natoms (5 for methane) makes it viewable by vmd (watch the fragment wiggle around)\n",
    "# chk - restart (mc.restart)\n",
    "# log - energies, etc\n",
    "# properties - thermo properties\n",
    "# cassandra uses fixed bonds -- make sure ring systems have correct bonds!\n",
    "!ls"
   ]
  },
  {
   "cell_type": "code",
   "execution_count": 7,
   "metadata": {},
   "outputs": [],
   "source": [
    "#%%bash\n",
    "#for file in gcmc.out*\n",
    "#do\n",
    "#echo \"!!! FILE\" $file;\n",
    "#head -50 $file\n",
    "#done"
   ]
  },
  {
   "cell_type": "code",
   "execution_count": 16,
   "metadata": {},
   "outputs": [
    {
     "name": "stdout",
     "output_type": "stream",
     "text": [
      "      100000\n",
      "   300.00000000000000        308.96094708967013     \n",
      " ls   0.0000000000000000        0.0000000000000000        0.0000000000000000     \n",
      " ls -0.28611858535217743      -0.98085726486241431      -0.37967773319318276     \n",
      " ls  0.54601513042094063      -0.15914456848617042       0.92986042903450894     \n",
      " ls  0.65381729971336111       0.47762771508257179      -0.72972235591775014     \n",
      " ls -0.82688975448963709       0.66223193612725539       0.25651944183026865     \n",
      "   300.00000000000000        369.88588330996089     \n",
      " ls   0.0000000000000000        0.0000000000000000        0.0000000000000000     \n",
      " ls -0.42191781948382390      -0.90885453579680331      -0.42903238381690284     \n"
     ]
    }
   ],
   "source": [
    "!head species2/frag1/frag1.dat"
   ]
  },
  {
   "cell_type": "code",
   "execution_count": null,
   "metadata": {},
   "outputs": [],
   "source": []
  }
 ],
 "metadata": {
  "kernelspec": {
   "display_name": "Python 3",
   "language": "python",
   "name": "python3"
  },
  "language_info": {
   "codemirror_mode": {
    "name": "ipython",
    "version": 3
   },
   "file_extension": ".py",
   "mimetype": "text/x-python",
   "name": "python",
   "nbconvert_exporter": "python",
   "pygments_lexer": "ipython3",
   "version": "3.7.6"
  }
 },
 "nbformat": 4,
 "nbformat_minor": 4
}
